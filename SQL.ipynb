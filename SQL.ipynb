{
 "cells": [
  {
   "cell_type": "markdown",
   "id": "ba7d65a1",
   "metadata": {},
   "source": [
    "# SQL"
   ]
  },
  {
   "cell_type": "markdown",
   "id": "89f16c83",
   "metadata": {},
   "source": [
    "https://www.codeproject.com/Articles/33052/Visual-Representation-of-SQL-Joins"
   ]
  },
  {
   "cell_type": "markdown",
   "id": "3dc42ae3",
   "metadata": {},
   "source": [
    "# Connect to MySQL"
   ]
  },
  {
   "cell_type": "markdown",
   "id": "39622cf5",
   "metadata": {},
   "source": [
    "## Method 1 - mysql.connector"
   ]
  },
  {
   "cell_type": "code",
   "execution_count": 40,
   "id": "5cf4f8c9",
   "metadata": {},
   "outputs": [],
   "source": [
    "import mysql.connector\n",
    "import getpass"
   ]
  },
  {
   "cell_type": "code",
   "execution_count": 41,
   "id": "b4134612",
   "metadata": {},
   "outputs": [
    {
     "name": "stdout",
     "output_type": "stream",
     "text": [
      "Enter password: ········\n"
     ]
    }
   ],
   "source": [
    "cnx = mysql.connector.connect(\n",
    "    host=\"localhost\",\n",
    "    user=\"root\",\n",
    "    password=getpass.getpass('Enter password: '), \n",
    "    database='sakila'\n",
    ")"
   ]
  },
  {
   "cell_type": "markdown",
   "id": "4c5b8f49",
   "metadata": {},
   "source": [
    "## Method 2 - pymysql"
   ]
  },
  {
   "cell_type": "code",
   "execution_count": 13,
   "id": "098c7777",
   "metadata": {},
   "outputs": [],
   "source": [
    "import pymysql as mysql\n",
    "import pandas as pd\n",
    "import getpass"
   ]
  },
  {
   "cell_type": "code",
   "execution_count": 20,
   "id": "59cbecd4",
   "metadata": {},
   "outputs": [
    {
     "name": "stdout",
     "output_type": "stream",
     "text": [
      "Enter password: ········\n"
     ]
    }
   ],
   "source": [
    "cnx = mysql.connect(host='localhost',port=int(3306),user='root',passwd=getpass.getpass('Enter password: '),db='sakila')"
   ]
  },
  {
   "cell_type": "markdown",
   "id": "91b9d86d",
   "metadata": {},
   "source": [
    "# Both"
   ]
  },
  {
   "cell_type": "code",
   "execution_count": 24,
   "id": "76f8a77c",
   "metadata": {},
   "outputs": [],
   "source": [
    "def sql(query, params=None):\n",
    "    cur = cnx.cursor()\n",
    "    cur.execute(query)\n",
    "    for x in cur:\n",
    "        print(x)"
   ]
  },
  {
   "cell_type": "code",
   "execution_count": 25,
   "id": "02360562",
   "metadata": {},
   "outputs": [],
   "source": [
    "def todf(query):\n",
    "    df = pd.sql(query)\n",
    "    return df"
   ]
  },
  {
   "cell_type": "code",
   "execution_count": 28,
   "id": "f5838267",
   "metadata": {},
   "outputs": [
    {
     "data": {
      "text/html": [
       "<div>\n",
       "<style scoped>\n",
       "    .dataframe tbody tr th:only-of-type {\n",
       "        vertical-align: middle;\n",
       "    }\n",
       "\n",
       "    .dataframe tbody tr th {\n",
       "        vertical-align: top;\n",
       "    }\n",
       "\n",
       "    .dataframe thead th {\n",
       "        text-align: right;\n",
       "    }\n",
       "</style>\n",
       "<table border=\"1\" class=\"dataframe\">\n",
       "  <thead>\n",
       "    <tr style=\"text-align: right;\">\n",
       "      <th></th>\n",
       "      <th>Database</th>\n",
       "    </tr>\n",
       "  </thead>\n",
       "  <tbody>\n",
       "    <tr>\n",
       "      <th>0</th>\n",
       "      <td>ads_507_supermarket</td>\n",
       "    </tr>\n",
       "    <tr>\n",
       "      <th>1</th>\n",
       "      <td>information_schema</td>\n",
       "    </tr>\n",
       "    <tr>\n",
       "      <th>2</th>\n",
       "      <td>module3</td>\n",
       "    </tr>\n",
       "    <tr>\n",
       "      <th>3</th>\n",
       "      <td>mysql</td>\n",
       "    </tr>\n",
       "    <tr>\n",
       "      <th>4</th>\n",
       "      <td>performance_schema</td>\n",
       "    </tr>\n",
       "    <tr>\n",
       "      <th>5</th>\n",
       "      <td>sakila</td>\n",
       "    </tr>\n",
       "    <tr>\n",
       "      <th>6</th>\n",
       "      <td>sys</td>\n",
       "    </tr>\n",
       "    <tr>\n",
       "      <th>7</th>\n",
       "      <td>world</td>\n",
       "    </tr>\n",
       "  </tbody>\n",
       "</table>\n",
       "</div>"
      ],
      "text/plain": [
       "              Database\n",
       "0  ads_507_supermarket\n",
       "1   information_schema\n",
       "2              module3\n",
       "3                mysql\n",
       "4   performance_schema\n",
       "5               sakila\n",
       "6                  sys\n",
       "7                world"
      ]
     },
     "execution_count": 28,
     "metadata": {},
     "output_type": "execute_result"
    }
   ],
   "source": [
    "b = todf('SHOW DATABASES')\n",
    "b"
   ]
  },
  {
   "cell_type": "markdown",
   "id": "15f53e13",
   "metadata": {},
   "source": [
    "## Create Database"
   ]
  },
  {
   "cell_type": "code",
   "execution_count": null,
   "id": "3502bce3",
   "metadata": {},
   "outputs": [],
   "source": [
    "# execute queries\n",
    "query = \"\"\"\n",
    "CREATE DATABASE IF NOT EXISTS ADS_507_Supermarket;\n",
    "\"\"\"\n",
    "sql(query)"
   ]
  },
  {
   "cell_type": "code",
   "execution_count": null,
   "id": "d5aa9caa",
   "metadata": {},
   "outputs": [],
   "source": [
    "# Navigate to a db\n",
    "cnx.select_db(\"db\")"
   ]
  },
  {
   "cell_type": "markdown",
   "id": "107217e9",
   "metadata": {},
   "source": [
    "## Create Table"
   ]
  },
  {
   "cell_type": "code",
   "execution_count": null,
   "id": "342166fc",
   "metadata": {},
   "outputs": [],
   "source": [
    "create_order_table = \"\"\"\n",
    "    CREATE TABLE IF NOT EXISTS orders(\n",
    "        Order_Id VARCHAR(100) NOT NULL,\n",
    "        Company_Id VARCHAR(100) NOT NULL,\n",
    "        Company_Name VARCHAR(255),\n",
    "        Date DATE,\n",
    "        Order_Value SMALLINT,\n",
    "        Converted TINYINT UNSIGNED,\n",
    "        PRIMARY KEY (Order_Id, Company_Id),\n",
    "        INDEX (Company_Id),\n",
    "        INDEX (Order_Id)\n",
    "    )\n",
    ";\n",
    "\"\"\""
   ]
  },
  {
   "cell_type": "markdown",
   "id": "09c49812",
   "metadata": {},
   "source": [
    "## Insert Data into Tables"
   ]
  },
  {
   "cell_type": "code",
   "execution_count": null,
   "id": "ab43a43d",
   "metadata": {},
   "outputs": [],
   "source": [
    "# Load orders datafraome to SQL table\n",
    "for i, df_row in df.iterrows():\n",
    "    query = \"\"\"\n",
    "    INSERT INTO df.orders VALUES (\n",
    "        %s, %s, %s, %s, %s, %s)\n",
    "        \"\"\"\n",
    "    params = tuple(df_row)\n",
    "    sql(query, params)"
   ]
  },
  {
   "cell_type": "markdown",
   "id": "ff37bf49",
   "metadata": {},
   "source": [
    "## Views"
   ]
  },
  {
   "cell_type": "code",
   "execution_count": null,
   "id": "f1665628",
   "metadata": {},
   "outputs": [],
   "source": [
    "view_query = \"\"\"\n",
    "    CREATE VIEW company_metrics\n",
    "        (company_name, year, month,\n",
    "        meal_typ_sale, monthly_total,\n",
    "        monthly_average, number_of_sales, year_to_date, yearly_total)\n",
    "        AS\n",
    "        SELECT o.Company_Name, YEAR(i.Date) AS Year, MONTHNAME(i.Date) AS Month,\n",
    "            i.Type_of_Meal,\n",
    "            SUM(i.Meal_Price) AS Monthly_Total,\n",
    "            AVG(i.Meal_Price) AS Monthly_Average,\n",
    "            COUNT(*) AS Number_of_Sales,\n",
    "            SUM(SUM(i.Meal_Price))\n",
    "                OVER (PARTITION BY o.Company_Name, Year(i.Date)\n",
    "                        ORDER BY MONTH(STR_TO_DATE(month, '%M'))\n",
    "                        ROWS UNBOUNDED PRECEDING) AS Year_to_Date,\n",
    "            SUM(i.Meal_Price)\n",
    "                OVER (PARTITION BY o.Company_Name, YEAR(i.Date)) AS Yearly_Total\n",
    "        FROM orders AS o\n",
    "            INNER JOIN invoice AS i\n",
    "                ON o.Order_Id = i.Order_Id\n",
    "        GROUP BY 1, 2, 3\n",
    "        ORDER BY 1, 2, MONTH(STR_TO_DATE(month, '%M'))\n",
    "\"\"\"\n",
    "\n",
    "sql(view_query)"
   ]
  },
  {
   "cell_type": "code",
   "execution_count": null,
   "id": "3bfbc5a1",
   "metadata": {},
   "outputs": [],
   "source": [
    "pd.read_sql(\"SELECT * FROM company_metrics LIMIT 3;\", cnx)"
   ]
  },
  {
   "cell_type": "code",
   "execution_count": null,
   "id": "52e822dd",
   "metadata": {},
   "outputs": [],
   "source": []
  },
  {
   "cell_type": "markdown",
   "id": "8c6bdc5d",
   "metadata": {},
   "source": [
    "## Close Connection"
   ]
  },
  {
   "cell_type": "code",
   "execution_count": null,
   "id": "006fba11",
   "metadata": {},
   "outputs": [],
   "source": [
    "cnx.close()"
   ]
  },
  {
   "cell_type": "markdown",
   "id": "415abec4",
   "metadata": {},
   "source": [
    "## Method 3"
   ]
  },
  {
   "cell_type": "code",
   "execution_count": null,
   "id": "a49510b2",
   "metadata": {},
   "outputs": [],
   "source": [
    "from sqlalchemy import create_engine\n",
    "\n",
    "hostname=\"localhost\"\n",
    "dbname=\"module3\"\n",
    "uname=\"root\"\n",
    "pwd=\"Jd$0615!\"\n",
    "\n",
    "\n",
    "engine = create_engine(\"mysql+pymysql://{user}:{pw}@{host}/{db}\".format(host=hostname, db=dbname, user=uname, pw=pwd))\n"
   ]
  }
 ],
 "metadata": {
  "kernelspec": {
   "display_name": "Python 3 (ipykernel)",
   "language": "python",
   "name": "python3"
  },
  "language_info": {
   "codemirror_mode": {
    "name": "ipython",
    "version": 3
   },
   "file_extension": ".py",
   "mimetype": "text/x-python",
   "name": "python",
   "nbconvert_exporter": "python",
   "pygments_lexer": "ipython3",
   "version": "3.12.4"
  }
 },
 "nbformat": 4,
 "nbformat_minor": 5
}
