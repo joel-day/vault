{
 "cells": [
  {
   "cell_type": "code",
   "execution_count": 202,
   "id": "5e08357f",
   "metadata": {},
   "outputs": [],
   "source": [
    "import os\n",
    "#!pip install selenium\n",
    "from selenium import webdriver\n",
    "from selenium.webdriver.chrome.options import Options\n",
    "from selenium.webdriver.support.wait import WebDriverWait\n",
    "from selenium.webdriver.common.by import By\n",
    "from selenium.common import NoSuchElementException"
   ]
  },
  {
   "cell_type": "code",
   "execution_count": 203,
   "id": "38b986d4",
   "metadata": {},
   "outputs": [
    {
     "data": {
      "text/plain": [
       "'C:\\\\Users\\\\jday\\\\Desktop'"
      ]
     },
     "execution_count": 203,
     "metadata": {},
     "output_type": "execute_result"
    }
   ],
   "source": [
    "pwd"
   ]
  },
  {
   "cell_type": "markdown",
   "id": "002d234b",
   "metadata": {},
   "source": [
    "## Initiate driver and test connection"
   ]
  },
  {
   "cell_type": "code",
   "execution_count": 204,
   "id": "572a7416",
   "metadata": {},
   "outputs": [
    {
     "data": {
      "text/plain": [
       "'C:\\\\Users\\\\jday\\\\Desktop'"
      ]
     },
     "execution_count": 204,
     "metadata": {},
     "output_type": "execute_result"
    }
   ],
   "source": [
    "options = Options()\n",
    "#options.add_argument(\"--headless\")\n",
    "options.add_argument(\"--start-maximized\")\n",
    "desktop = os.path.expanduser(\"~\\\\Desktop\")\n",
    "options.add_argument(f\"download.default_directory={desktop}\")\n",
    "desktop"
   ]
  },
  {
   "cell_type": "code",
   "execution_count": 182,
   "id": "80ef1ffd",
   "metadata": {},
   "outputs": [
    {
     "data": {
      "text/plain": [
       "'C:\\\\Users\\\\jday\\\\Desktop'"
      ]
     },
     "execution_count": 182,
     "metadata": {},
     "output_type": "execute_result"
    }
   ],
   "source": [
    "#pwd = os.getcwd()\n",
    "#desktop = os.path.expanduser(\"~/Desktop\")\n",
    "#options = Options()\n",
    "#prefs = {\"download.default_directory\" : pwd}\n",
    "#options.add_experimental_option(\"prefs\",prefs)\n",
    "#options.add_experimental_option('prefs', {'download.default_directory':desktop})\n",
    "#options.add_argument(\"--window-size=540,300\")\n",
    "#options.add_argument(\"--headless\")\n",
    "#options.add_argument(\"--start-maximized\")\n",
    "#pwd"
   ]
  },
  {
   "cell_type": "code",
   "execution_count": null,
   "id": "80debb44",
   "metadata": {},
   "outputs": [],
   "source": []
  },
  {
   "cell_type": "code",
   "execution_count": 183,
   "id": "f2de6465",
   "metadata": {},
   "outputs": [],
   "source": [
    "#desktop = os.path.expanduser(\"~/Desktop\")\n",
    "#chromeOptions = webdriver.ChromeOptions()\n",
    "#prefs = {\"download.default_directory\" : desktop}\n",
    "#options.add_experimental_option(\"prefs\",prefs)\n",
    "#driver = webdriver.Chrome(options=options)"
   ]
  },
  {
   "cell_type": "markdown",
   "id": "6fe56ee1",
   "metadata": {},
   "source": [
    "## initiate the driver with those options"
   ]
  },
  {
   "cell_type": "code",
   "execution_count": 205,
   "id": "2db5078d",
   "metadata": {},
   "outputs": [],
   "source": [
    "driver = webdriver.Chrome(options=options)"
   ]
  },
  {
   "cell_type": "markdown",
   "id": "6ae7c7f1",
   "metadata": {},
   "source": [
    "## intialize the wait variable"
   ]
  },
  {
   "cell_type": "code",
   "execution_count": 189,
   "id": "e0adcd02",
   "metadata": {},
   "outputs": [],
   "source": [
    "errors = [NoSuchElementException]\n",
    "wait = WebDriverWait(driver, timeout=2, ignored_exceptions=errors) #poll_frequency=.2)"
   ]
  },
  {
   "cell_type": "markdown",
   "id": "ed648145",
   "metadata": {},
   "source": [
    "## do some stuff"
   ]
  },
  {
   "cell_type": "code",
   "execution_count": 206,
   "id": "f86f3626",
   "metadata": {},
   "outputs": [],
   "source": [
    "driver.get('https://ethics.lacity.org/data/lobbying/registrations/')"
   ]
  },
  {
   "cell_type": "code",
   "execution_count": 207,
   "id": "9d884c5b",
   "metadata": {},
   "outputs": [],
   "source": [
    "search = driver.find_element(By.XPATH,'/html/body/div[1]/div[1]/div[2]/div/div/div/div/div/article/div/section/form/div[2]/div/div/div/div[6]/div[2]/div/div/div[1]/button')\n",
    "#wait.until(lambda d : search.is_displayed())\n",
    "search.click()"
   ]
  },
  {
   "cell_type": "code",
   "execution_count": 208,
   "id": "9cf37ee9",
   "metadata": {},
   "outputs": [],
   "source": [
    "#wait.until(lambda d : download.is_displayed())\n",
    "download = driver.find_element(By.XPATH,'/html/body/div[1]/div[1]/div[2]/div/div/div/div/div/article/div/section/form/div[2]/div/div/div/div[7]/div/div/div/div[2]/div/wddxpacket/header/div[2]/div[2]/a[1]/span/i')\n",
    "download.click()"
   ]
  },
  {
   "cell_type": "code",
   "execution_count": null,
   "id": "93f4de7a",
   "metadata": {},
   "outputs": [],
   "source": []
  },
  {
   "cell_type": "code",
   "execution_count": null,
   "id": "a392abc9",
   "metadata": {},
   "outputs": [],
   "source": []
  }
 ],
 "metadata": {
  "kernelspec": {
   "display_name": "Python 3 (ipykernel)",
   "language": "python",
   "name": "python3"
  },
  "language_info": {
   "codemirror_mode": {
    "name": "ipython",
    "version": 3
   },
   "file_extension": ".py",
   "mimetype": "text/x-python",
   "name": "python",
   "nbconvert_exporter": "python",
   "pygments_lexer": "ipython3",
   "version": "3.10.2"
  }
 },
 "nbformat": 4,
 "nbformat_minor": 5
}
