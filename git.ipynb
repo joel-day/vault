{
 "cells": [
  {
   "cell_type": "markdown",
   "id": "620fbcb9",
   "metadata": {},
   "source": [
    "# Git w/ Github"
   ]
  },
  {
   "cell_type": "markdown",
   "id": "c630a1b4",
   "metadata": {},
   "source": [
    "# Clone Repository to Local Directory "
   ]
  },
  {
   "cell_type": "markdown",
   "id": "5ae043a1",
   "metadata": {},
   "source": [
    "#### Adjust Local Directory"
   ]
  },
  {
   "cell_type": "code",
   "execution_count": 146,
   "id": "9b273e5a",
   "metadata": {},
   "outputs": [],
   "source": [
    "# Go back one directory\n",
    "#cd ..\n",
    "# Switch back to most recent directory\n",
    "#cd -\n",
    "# Revert Back to home directory\n",
    "#cd ~"
   ]
  },
  {
   "cell_type": "markdown",
   "id": "d69e778b",
   "metadata": {},
   "source": [
    "#### Clone it"
   ]
  },
  {
   "cell_type": "code",
   "execution_count": 155,
   "id": "9b92fdb3",
   "metadata": {},
   "outputs": [
    {
     "name": "stderr",
     "output_type": "stream",
     "text": [
      "Cloning into 'vault'...\n"
     ]
    }
   ],
   "source": [
    "!git clone https://github.com/joel-day/vault.git vault\n",
    "#!git clone https://github.com/lanewhitmore/youtube-trending-predictions.git yt_project_0319"
   ]
  },
  {
   "cell_type": "markdown",
   "id": "9b1cbaaa",
   "metadata": {},
   "source": [
    "# Connect Git to an Online Repository"
   ]
  },
  {
   "cell_type": "markdown",
   "id": "ca0f1a77",
   "metadata": {},
   "source": [
    "#### Connect Git to a Repo and give it a Nickname"
   ]
  },
  {
   "cell_type": "code",
   "execution_count": 54,
   "id": "fe91869f",
   "metadata": {},
   "outputs": [],
   "source": [
    "#!git remote add vault https://github.com/joel-day/vault\n",
    "#!git remote add 3d https://github.com/joel-day/3dmap-plotly && git remote add vault https://github.com/joel-day/vault"
   ]
  },
  {
   "cell_type": "markdown",
   "id": "e1237f70",
   "metadata": {},
   "source": [
    "#### View all Current Connections"
   ]
  },
  {
   "cell_type": "code",
   "execution_count": 151,
   "id": "9b48d9a1",
   "metadata": {},
   "outputs": [
    {
     "name": "stdout",
     "output_type": "stream",
     "text": [
      "vault\thttps://github.com/joel-day/vault (fetch)\n",
      "vault\thttps://github.com/joel-day/vault (push)\n"
     ]
    }
   ],
   "source": [
    "!git remote -v"
   ]
  },
  {
   "cell_type": "markdown",
   "id": "2e219588",
   "metadata": {},
   "source": [
    "#### Renaming a Connection"
   ]
  },
  {
   "cell_type": "code",
   "execution_count": 152,
   "id": "7c0b5fe7",
   "metadata": {},
   "outputs": [],
   "source": [
    "#!git remote rename vault vault2"
   ]
  },
  {
   "cell_type": "markdown",
   "id": "5c36e90a",
   "metadata": {},
   "source": [
    "#### Removing a Connection"
   ]
  },
  {
   "cell_type": "code",
   "execution_count": 153,
   "id": "cbee995b",
   "metadata": {},
   "outputs": [],
   "source": [
    "#!git remote rm 3d"
   ]
  },
  {
   "cell_type": "markdown",
   "id": "5d884e6d",
   "metadata": {},
   "source": [
    "# Replace a Repository with Folder on Desktop"
   ]
  },
  {
   "cell_type": "markdown",
   "id": "944ccee6",
   "metadata": {},
   "source": [
    "#### Change Current directory to folder which will replce desired Repository"
   ]
  },
  {
   "cell_type": "code",
   "execution_count": 68,
   "id": "1572dc16",
   "metadata": {},
   "outputs": [
    {
     "name": "stdout",
     "output_type": "stream",
     "text": [
      "[WinError 2] The system cannot find the file specified: 'vault'\n",
      "C:\\Users\\jday\\desktop\\vault\n"
     ]
    }
   ],
   "source": [
    "cd vault"
   ]
  },
  {
   "cell_type": "markdown",
   "id": "5bc69472",
   "metadata": {},
   "source": [
    "#### Initialize the local directory as a Git repository."
   ]
  },
  {
   "cell_type": "code",
   "execution_count": 69,
   "id": "16a45f76",
   "metadata": {},
   "outputs": [
    {
     "name": "stdout",
     "output_type": "stream",
     "text": [
      "Reinitialized existing Git repository in C:/Users/jday/Desktop/vault/.git/\n"
     ]
    },
    {
     "name": "stderr",
     "output_type": "stream",
     "text": [
      "warning: re-init: ignored --initial-branch=main\n"
     ]
    }
   ],
   "source": [
    "!git init -b main"
   ]
  },
  {
   "cell_type": "markdown",
   "id": "1d085e57",
   "metadata": {},
   "source": [
    "#### Stage and Commit all files in local directory"
   ]
  },
  {
   "cell_type": "code",
   "execution_count": 74,
   "id": "fbebe65a",
   "metadata": {},
   "outputs": [
    {
     "name": "stdout",
     "output_type": "stream",
     "text": [
      "On branch main\n",
      "Your branch is up to date with 'origin/main'.\n",
      "\n",
      "nothing to commit, working tree clean\n"
     ]
    }
   ],
   "source": [
    "!git add . && git commit -m \"initial commit\"\n",
    "# (-A) adds all files within the repository\n",
    "# (.) adds all files in the current folder your terminal is open to.\n",
    "\n",
    "# Alternate way to combine add and commit\n",
    "#!git commit -a -m \"initial commit\"\n",
    "# Note: (-a) only adds modified files, it will not add new or deleted files "
   ]
  },
  {
   "cell_type": "code",
   "execution_count": 71,
   "id": "ac3e3135",
   "metadata": {},
   "outputs": [
    {
     "name": "stderr",
     "output_type": "stream",
     "text": [
      "To https://github.com/joel-day/vault.git\n",
      "   64fdb62..8387b0e  main -> main\n"
     ]
    }
   ],
   "source": [
    "!git push"
   ]
  },
  {
   "cell_type": "markdown",
   "id": "0e98df60",
   "metadata": {},
   "source": [
    "# Aliases"
   ]
  },
  {
   "cell_type": "markdown",
   "id": "e78843ff",
   "metadata": {},
   "source": [
    "#### Create Shortcuts"
   ]
  },
  {
   "cell_type": "code",
   "execution_count": 123,
   "id": "2e19b398",
   "metadata": {},
   "outputs": [],
   "source": [
    "#!git config --global alias.vault2 \"!git clone https://github.com/joel-day/vault.git vault\""
   ]
  },
  {
   "cell_type": "code",
   "execution_count": 125,
   "id": "ee48ed28",
   "metadata": {},
   "outputs": [
    {
     "name": "stderr",
     "output_type": "stream",
     "text": [
      "fatal: destination path 'vault' already exists and is not an empty directory.\n"
     ]
    }
   ],
   "source": [
    "#!git vault2"
   ]
  },
  {
   "cell_type": "markdown",
   "id": "1148e48e",
   "metadata": {},
   "source": [
    "#### Shortcut ideas and how they are stored (locally) "
   ]
  },
  {
   "cell_type": "markdown",
   "id": "89307f36",
   "metadata": {},
   "source": [
    "#### https://snyk.io/blog/10-git-aliases-for-faster-and-productive-git-workflow/"
   ]
  },
  {
   "cell_type": "markdown",
   "id": "704ad6fa",
   "metadata": {},
   "source": [
    "# View recent commits, pulls, resets, pushes, etc"
   ]
  },
  {
   "cell_type": "code",
   "execution_count": 154,
   "id": "a30987c6",
   "metadata": {},
   "outputs": [],
   "source": [
    "#!git reflog"
   ]
  },
  {
   "cell_type": "markdown",
   "id": "057c0798",
   "metadata": {},
   "source": [
    "# Print out a pretty log of your commits/branches"
   ]
  },
  {
   "cell_type": "code",
   "execution_count": null,
   "id": "404e3fd4",
   "metadata": {},
   "outputs": [],
   "source": [
    "#!git log --graph --decorate --oneline"
   ]
  }
 ],
 "metadata": {
  "kernelspec": {
   "display_name": "Python 3 (ipykernel)",
   "language": "python",
   "name": "python3"
  },
  "language_info": {
   "codemirror_mode": {
    "name": "ipython",
    "version": 3
   },
   "file_extension": ".py",
   "mimetype": "text/x-python",
   "name": "python",
   "nbconvert_exporter": "python",
   "pygments_lexer": "ipython3",
   "version": "3.10.2"
  }
 },
 "nbformat": 4,
 "nbformat_minor": 5
}
