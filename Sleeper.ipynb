{
  "cells": [
    {
      "cell_type": "markdown",
      "metadata": {
        "id": "yAGFp0BJdy-l"
      },
      "source": [
        "## League standings by year into a DF"
      ]
    },
    {
      "cell_type": "markdown",
      "metadata": {},
      "source": [
        "[sleeper api docs](https://github.com/SwapnikKatkoori/sleeper-api-wrapper?tab=readme-ov-file#stats)"
      ]
    },
    {
      "cell_type": "code",
      "execution_count": 8,
      "metadata": {},
      "outputs": [],
      "source": [
        "from sleeper_wrapper import League, User, Players\n",
        "import pandas as pd"
      ]
    },
    {
      "cell_type": "code",
      "execution_count": 9,
      "metadata": {
        "colab": {
          "base_uri": "https://localhost:8080/"
        },
        "id": "e1QfaDjWdxG1",
        "outputId": "ca53c4b9-5a31-43b9-f1a7-c511a9d71f93"
      },
      "outputs": [],
      "source": [
        "def standings(year, league_name, league_owner):\n",
        "\n",
        "    # Initialize a User object to find the league\n",
        "    user = User(league_owner)\n",
        "\n",
        "    # Get all leagues for the user\n",
        "    leagues = user.get_all_leagues('nfl', year)  # Use the appropriate season year\n",
        "\n",
        "    # Find the league by name\n",
        "    league_id = None\n",
        "    for league in leagues:\n",
        "        if league['name'] == league_name:\n",
        "            league_id = league['league_id']\n",
        "            break\n",
        "    league = League(league_id)\n",
        "\n",
        "    rosters = league.get_rosters()\n",
        "    users = league.get_users()\n",
        "\n",
        "    data = league.get_standings(rosters, users)\n",
        "\n",
        "    df = pd.DataFrame(data, columns=['display_name', 'w', 'l', 'total_points'])\n",
        "\n",
        "    return(df)"
      ]
    },
    {
      "cell_type": "markdown",
      "metadata": {},
      "source": [
        "## Dos Bowl"
      ]
    },
    {
      "cell_type": "code",
      "execution_count": null,
      "metadata": {},
      "outputs": [],
      "source": [
        "# Set up the league owner username and league name\n",
        "league_owner = \"joelrday\"\n",
        "league_name = \"Dos Bowl\"\n",
        "year = 2023\n",
        "\n",
        "dosbowl_2023 = standings(year, league_name, league_owner)\n",
        "dosbowl_2023"
      ]
    },
    {
      "cell_type": "markdown",
      "metadata": {},
      "source": [
        "## Bakery"
      ]
    },
    {
      "cell_type": "code",
      "execution_count": 46,
      "metadata": {},
      "outputs": [
        {
          "name": "stdout",
          "output_type": "stream",
          "text": [
            "              display_name  total_wins  total_points\n",
            "4                 Mahomies          20          3982\n",
            "8                    Squad          16          3775\n",
            "6          Platinum Ponies          16          3748\n",
            "0      Alaskan Pipeliners           15          3601\n",
            "1               Ethanquast          14          3541\n",
            "9        Younghoe Waddling          13          3563\n",
            "7             Shnozberry12          12          3618\n",
            "5                Mike’d Up          12          3557\n",
            "3           Hocken Loogies          11          3327\n",
            "2  Hennepin County Cougars          11          3183\n"
          ]
        }
      ],
      "source": [
        "# Set up the league owner username and league name\n",
        "league_owner = \"joelrday\"\n",
        "league_name = \"Bakery Football Franchise Mode\"\n",
        "year1 = 2022\n",
        "year2 = 2023\n",
        "\n",
        "bakery_2022 = standings(year1, league_name, league_owner)\n",
        "bakery_2022['display_name'] = bakery_2022['display_name'].replace({\n",
        "    'Joelrday': 'Squad',\n",
        "    'JoshSchweiss': 'Younghoe Waddling'\n",
        "})\n",
        "\n",
        "bakery_2023 = standings(year2, league_name, league_owner)\n",
        "df = pd.merge(bakery_2022, bakery_2023, on ='display_name', how='outer', indicator = True)\n",
        "\n",
        "df['total_points_x'] = df['total_points_x'].astype(int)\n",
        "df['total_points_y'] = df['total_points_y'].astype(int)\n",
        "df['w_x'] = df['w_x'].astype(int)\n",
        "df['w_y'] = df['w_y'].astype(int)\n",
        "\n",
        "\n",
        "df['total_points'] = df['total_points_x'] + df['total_points_y']\n",
        "df['total_wins'] = df['w_x'] + df['w_y']\n",
        "df2 = df[['display_name','total_wins','total_points']]\n",
        "sorted_df = df2.sort_values(by=['total_wins', 'total_points'], ascending=[False, False])\n",
        "\n",
        "# Display the sorted DataFrame\n",
        "print(sorted_df)"
      ]
    },
    {
      "cell_type": "markdown",
      "metadata": {
        "id": "pYzWk9BDkDiR"
      },
      "source": [
        "## Specific Matchups"
      ]
    },
    {
      "cell_type": "code",
      "execution_count": 6,
      "metadata": {
        "colab": {
          "base_uri": "https://localhost:8080/"
        },
        "id": "OdQBIUsFj_IJ",
        "outputId": "c85f0ebf-987c-4cb2-df4a-e8cc66f429c8"
      },
      "outputs": [
        {
          "name": "stderr",
          "output_type": "stream",
          "text": [
            "WARNING:root:The Stats API is no longer included in Sleeper's documentation, therefore we cannot guarantee that this class will continue working.\n",
            "WARNING:root:The Stats API is no longer included in Sleeper's documentation, therefore we cannot guarantee that this class will continue working.\n",
            "WARNING:root:The Stats API is no longer included in Sleeper's documentation, therefore we cannot guarantee that this class will continue working.\n",
            "WARNING:root:The Stats API is no longer included in Sleeper's documentation, therefore we cannot guarantee that this class will continue working.\n",
            "WARNING:root:The Stats API is no longer included in Sleeper's documentation, therefore we cannot guarantee that this class will continue working.\n",
            "WARNING:root:The Stats API is no longer included in Sleeper's documentation, therefore we cannot guarantee that this class will continue working.\n",
            "WARNING:root:The Stats API is no longer included in Sleeper's documentation, therefore we cannot guarantee that this class will continue working.\n",
            "WARNING:root:The Stats API is no longer included in Sleeper's documentation, therefore we cannot guarantee that this class will continue working.\n",
            "WARNING:root:The Stats API is no longer included in Sleeper's documentation, therefore we cannot guarantee that this class will continue working.\n",
            "WARNING:root:The Stats API is no longer included in Sleeper's documentation, therefore we cannot guarantee that this class will continue working.\n"
          ]
        },
        {
          "data": {
            "text/plain": [
              "{3: [('Squad', 117.9), ('Team vuke', 74.97999999999999)],\n",
              " 5: [('Kelce x Swift = M8', 70.7), ('BrandynWales', 109.76)],\n",
              " 2: [('JakeReinking', 85.78), ('kentnelson7', 99.47999999999999)],\n",
              " 1: [('Tommypaal', 166.5), ('Martysods', 131.95999999999998)],\n",
              " 4: [('Ramdog Raw Dawgs', 109.52000000000001),\n",
              "  ('browned out', 121.22000000000001)]}"
            ]
          },
          "execution_count": 6,
          "metadata": {},
          "output_type": "execute_result"
        }
      ],
      "source": [
        "from sleeper_wrapper import League, User, Players\n",
        "import pandas as pd\n",
        "\n",
        "# Set up the league owner username and league name\n",
        "league_owner = \"joelrday\"\n",
        "league_name = \"Dos Bowl\"\n",
        "year = 2023\n",
        "\n",
        "# Initialize a User object to find the league\n",
        "user = User(league_owner)\n",
        "\n",
        "# Get all leagues for the user\n",
        "leagues = user.get_all_leagues('nfl', year)  # Use the appropriate season year\n",
        "\n",
        "# Find the league by name\n",
        "league_id = None\n",
        "for league in leagues:\n",
        "    if league['name'] == league_name:\n",
        "        league_id = league['league_id']\n",
        "        break\n",
        "league = League(league_id)\n",
        "\n",
        "rosters = league.get_rosters()\n",
        "users = league.get_users()\n",
        "matchups = league.get_matchups(11)\n",
        "\n",
        "scoreboards = league.get_scoreboards(rosters, matchups, users,'pts_std', 2023, 8)\n",
        "\n",
        "scoreboards\n",
        "\n",
        "\n",
        "\n"
      ]
    },
    {
      "cell_type": "code",
      "execution_count": null,
      "metadata": {
        "id": "p7_o7kjBvG-d"
      },
      "outputs": [],
      "source": []
    },
    {
      "cell_type": "code",
      "execution_count": 118,
      "metadata": {
        "id": "JjpAjpVinxGJ"
      },
      "outputs": [],
      "source": [
        "df3 = pd.merge(df, df2, on='display_name', how='left', indicator = True)"
      ]
    },
    {
      "cell_type": "code",
      "execution_count": 119,
      "metadata": {
        "colab": {
          "base_uri": "https://localhost:8080/",
          "height": 363
        },
        "id": "IteOIl3TpQmK",
        "outputId": "b925aa85-98d9-43ab-b35b-d0aac46d99a9"
      },
      "outputs": [
        {
          "data": {
            "application/vnd.google.colaboratory.intrinsic+json": {
              "summary": "{\n  \"name\": \"df3\",\n  \"rows\": 10,\n  \"fields\": [\n    {\n      \"column\": \"display_name\",\n      \"properties\": {\n        \"dtype\": \"string\",\n        \"num_unique_values\": 10,\n        \"samples\": [\n          \"Ramdog Raw Dawgs\",\n          \"Tommypaal\",\n          \"Kelce x Swift = M8\"\n        ],\n        \"semantic_type\": \"\",\n        \"description\": \"\"\n      }\n    },\n    {\n      \"column\": \"w\",\n      \"properties\": {\n        \"dtype\": \"string\",\n        \"num_unique_values\": 6,\n        \"samples\": [\n          \"12\",\n          \"9\",\n          \"4\"\n        ],\n        \"semantic_type\": \"\",\n        \"description\": \"\"\n      }\n    },\n    {\n      \"column\": \"l\",\n      \"properties\": {\n        \"dtype\": \"string\",\n        \"num_unique_values\": 6,\n        \"samples\": [\n          \"3\",\n          \"6\",\n          \"11\"\n        ],\n        \"semantic_type\": \"\",\n        \"description\": \"\"\n      }\n    },\n    {\n      \"column\": \"total_points\",\n      \"properties\": {\n        \"dtype\": \"string\",\n        \"num_unique_values\": 10,\n        \"samples\": [\n          \"1817\",\n          \"2122\",\n          \"1975\"\n        ],\n        \"semantic_type\": \"\",\n        \"description\": \"\"\n      }\n    },\n    {\n      \"column\": \"user_id\",\n      \"properties\": {\n        \"dtype\": \"string\",\n        \"num_unique_values\": 5,\n        \"samples\": [\n          \"1004466862094139392\",\n          \"609204637878255616\",\n          \"1004116113745125376\"\n        ],\n        \"semantic_type\": \"\",\n        \"description\": \"\"\n      }\n    },\n    {\n      \"column\": \"_merge\",\n      \"properties\": {\n        \"dtype\": \"category\",\n        \"num_unique_values\": 2,\n        \"samples\": [\n          \"left_only\",\n          \"both\"\n        ],\n        \"semantic_type\": \"\",\n        \"description\": \"\"\n      }\n    }\n  ]\n}",
              "type": "dataframe",
              "variable_name": "df3"
            },
            "text/html": [
              "\n",
              "  <div id=\"df-9c26384d-70cf-4f37-b831-7db6696f2ddb\" class=\"colab-df-container\">\n",
              "    <div>\n",
              "<style scoped>\n",
              "    .dataframe tbody tr th:only-of-type {\n",
              "        vertical-align: middle;\n",
              "    }\n",
              "\n",
              "    .dataframe tbody tr th {\n",
              "        vertical-align: top;\n",
              "    }\n",
              "\n",
              "    .dataframe thead th {\n",
              "        text-align: right;\n",
              "    }\n",
              "</style>\n",
              "<table border=\"1\" class=\"dataframe\">\n",
              "  <thead>\n",
              "    <tr style=\"text-align: right;\">\n",
              "      <th></th>\n",
              "      <th>display_name</th>\n",
              "      <th>w</th>\n",
              "      <th>l</th>\n",
              "      <th>total_points</th>\n",
              "      <th>user_id</th>\n",
              "      <th>_merge</th>\n",
              "    </tr>\n",
              "  </thead>\n",
              "  <tbody>\n",
              "    <tr>\n",
              "      <th>0</th>\n",
              "      <td>Martysods</td>\n",
              "      <td>12</td>\n",
              "      <td>3</td>\n",
              "      <td>2294</td>\n",
              "      <td>862530456044830720</td>\n",
              "      <td>both</td>\n",
              "    </tr>\n",
              "    <tr>\n",
              "      <th>1</th>\n",
              "      <td>Tommypaal</td>\n",
              "      <td>9</td>\n",
              "      <td>6</td>\n",
              "      <td>2122</td>\n",
              "      <td>1004466862094139392</td>\n",
              "      <td>both</td>\n",
              "    </tr>\n",
              "    <tr>\n",
              "      <th>2</th>\n",
              "      <td>browned out</td>\n",
              "      <td>9</td>\n",
              "      <td>6</td>\n",
              "      <td>2076</td>\n",
              "      <td>NaN</td>\n",
              "      <td>left_only</td>\n",
              "    </tr>\n",
              "    <tr>\n",
              "      <th>3</th>\n",
              "      <td>JakeReinking</td>\n",
              "      <td>9</td>\n",
              "      <td>6</td>\n",
              "      <td>2051</td>\n",
              "      <td>1004116113745125376</td>\n",
              "      <td>both</td>\n",
              "    </tr>\n",
              "    <tr>\n",
              "      <th>4</th>\n",
              "      <td>BrandynWales</td>\n",
              "      <td>7</td>\n",
              "      <td>8</td>\n",
              "      <td>2064</td>\n",
              "      <td>461917932633452544</td>\n",
              "      <td>both</td>\n",
              "    </tr>\n",
              "    <tr>\n",
              "      <th>5</th>\n",
              "      <td>Kelce x Swift = M8</td>\n",
              "      <td>7</td>\n",
              "      <td>8</td>\n",
              "      <td>1975</td>\n",
              "      <td>NaN</td>\n",
              "      <td>left_only</td>\n",
              "    </tr>\n",
              "    <tr>\n",
              "      <th>6</th>\n",
              "      <td>Squad</td>\n",
              "      <td>7</td>\n",
              "      <td>8</td>\n",
              "      <td>1842</td>\n",
              "      <td>NaN</td>\n",
              "      <td>left_only</td>\n",
              "    </tr>\n",
              "    <tr>\n",
              "      <th>7</th>\n",
              "      <td>Team vuke</td>\n",
              "      <td>6</td>\n",
              "      <td>9</td>\n",
              "      <td>1980</td>\n",
              "      <td>NaN</td>\n",
              "      <td>left_only</td>\n",
              "    </tr>\n",
              "    <tr>\n",
              "      <th>8</th>\n",
              "      <td>Ramdog Raw Dawgs</td>\n",
              "      <td>5</td>\n",
              "      <td>10</td>\n",
              "      <td>1817</td>\n",
              "      <td>NaN</td>\n",
              "      <td>left_only</td>\n",
              "    </tr>\n",
              "    <tr>\n",
              "      <th>9</th>\n",
              "      <td>kentnelson7</td>\n",
              "      <td>4</td>\n",
              "      <td>11</td>\n",
              "      <td>1624</td>\n",
              "      <td>609204637878255616</td>\n",
              "      <td>both</td>\n",
              "    </tr>\n",
              "  </tbody>\n",
              "</table>\n",
              "</div>\n",
              "    <div class=\"colab-df-buttons\">\n",
              "\n",
              "  <div class=\"colab-df-container\">\n",
              "    <button class=\"colab-df-convert\" onclick=\"convertToInteractive('df-9c26384d-70cf-4f37-b831-7db6696f2ddb')\"\n",
              "            title=\"Convert this dataframe to an interactive table.\"\n",
              "            style=\"display:none;\">\n",
              "\n",
              "  <svg xmlns=\"http://www.w3.org/2000/svg\" height=\"24px\" viewBox=\"0 -960 960 960\">\n",
              "    <path d=\"M120-120v-720h720v720H120Zm60-500h600v-160H180v160Zm220 220h160v-160H400v160Zm0 220h160v-160H400v160ZM180-400h160v-160H180v160Zm440 0h160v-160H620v160ZM180-180h160v-160H180v160Zm440 0h160v-160H620v160Z\"/>\n",
              "  </svg>\n",
              "    </button>\n",
              "\n",
              "  <style>\n",
              "    .colab-df-container {\n",
              "      display:flex;\n",
              "      gap: 12px;\n",
              "    }\n",
              "\n",
              "    .colab-df-convert {\n",
              "      background-color: #E8F0FE;\n",
              "      border: none;\n",
              "      border-radius: 50%;\n",
              "      cursor: pointer;\n",
              "      display: none;\n",
              "      fill: #1967D2;\n",
              "      height: 32px;\n",
              "      padding: 0 0 0 0;\n",
              "      width: 32px;\n",
              "    }\n",
              "\n",
              "    .colab-df-convert:hover {\n",
              "      background-color: #E2EBFA;\n",
              "      box-shadow: 0px 1px 2px rgba(60, 64, 67, 0.3), 0px 1px 3px 1px rgba(60, 64, 67, 0.15);\n",
              "      fill: #174EA6;\n",
              "    }\n",
              "\n",
              "    .colab-df-buttons div {\n",
              "      margin-bottom: 4px;\n",
              "    }\n",
              "\n",
              "    [theme=dark] .colab-df-convert {\n",
              "      background-color: #3B4455;\n",
              "      fill: #D2E3FC;\n",
              "    }\n",
              "\n",
              "    [theme=dark] .colab-df-convert:hover {\n",
              "      background-color: #434B5C;\n",
              "      box-shadow: 0px 1px 3px 1px rgba(0, 0, 0, 0.15);\n",
              "      filter: drop-shadow(0px 1px 2px rgba(0, 0, 0, 0.3));\n",
              "      fill: #FFFFFF;\n",
              "    }\n",
              "  </style>\n",
              "\n",
              "    <script>\n",
              "      const buttonEl =\n",
              "        document.querySelector('#df-9c26384d-70cf-4f37-b831-7db6696f2ddb button.colab-df-convert');\n",
              "      buttonEl.style.display =\n",
              "        google.colab.kernel.accessAllowed ? 'block' : 'none';\n",
              "\n",
              "      async function convertToInteractive(key) {\n",
              "        const element = document.querySelector('#df-9c26384d-70cf-4f37-b831-7db6696f2ddb');\n",
              "        const dataTable =\n",
              "          await google.colab.kernel.invokeFunction('convertToInteractive',\n",
              "                                                    [key], {});\n",
              "        if (!dataTable) return;\n",
              "\n",
              "        const docLinkHtml = 'Like what you see? Visit the ' +\n",
              "          '<a target=\"_blank\" href=https://colab.research.google.com/notebooks/data_table.ipynb>data table notebook</a>'\n",
              "          + ' to learn more about interactive tables.';\n",
              "        element.innerHTML = '';\n",
              "        dataTable['output_type'] = 'display_data';\n",
              "        await google.colab.output.renderOutput(dataTable, element);\n",
              "        const docLink = document.createElement('div');\n",
              "        docLink.innerHTML = docLinkHtml;\n",
              "        element.appendChild(docLink);\n",
              "      }\n",
              "    </script>\n",
              "  </div>\n",
              "\n",
              "\n",
              "<div id=\"df-d2808095-1b96-416b-8a79-273b47758ef1\">\n",
              "  <button class=\"colab-df-quickchart\" onclick=\"quickchart('df-d2808095-1b96-416b-8a79-273b47758ef1')\"\n",
              "            title=\"Suggest charts\"\n",
              "            style=\"display:none;\">\n",
              "\n",
              "<svg xmlns=\"http://www.w3.org/2000/svg\" height=\"24px\"viewBox=\"0 0 24 24\"\n",
              "     width=\"24px\">\n",
              "    <g>\n",
              "        <path d=\"M19 3H5c-1.1 0-2 .9-2 2v14c0 1.1.9 2 2 2h14c1.1 0 2-.9 2-2V5c0-1.1-.9-2-2-2zM9 17H7v-7h2v7zm4 0h-2V7h2v10zm4 0h-2v-4h2v4z\"/>\n",
              "    </g>\n",
              "</svg>\n",
              "  </button>\n",
              "\n",
              "<style>\n",
              "  .colab-df-quickchart {\n",
              "      --bg-color: #E8F0FE;\n",
              "      --fill-color: #1967D2;\n",
              "      --hover-bg-color: #E2EBFA;\n",
              "      --hover-fill-color: #174EA6;\n",
              "      --disabled-fill-color: #AAA;\n",
              "      --disabled-bg-color: #DDD;\n",
              "  }\n",
              "\n",
              "  [theme=dark] .colab-df-quickchart {\n",
              "      --bg-color: #3B4455;\n",
              "      --fill-color: #D2E3FC;\n",
              "      --hover-bg-color: #434B5C;\n",
              "      --hover-fill-color: #FFFFFF;\n",
              "      --disabled-bg-color: #3B4455;\n",
              "      --disabled-fill-color: #666;\n",
              "  }\n",
              "\n",
              "  .colab-df-quickchart {\n",
              "    background-color: var(--bg-color);\n",
              "    border: none;\n",
              "    border-radius: 50%;\n",
              "    cursor: pointer;\n",
              "    display: none;\n",
              "    fill: var(--fill-color);\n",
              "    height: 32px;\n",
              "    padding: 0;\n",
              "    width: 32px;\n",
              "  }\n",
              "\n",
              "  .colab-df-quickchart:hover {\n",
              "    background-color: var(--hover-bg-color);\n",
              "    box-shadow: 0 1px 2px rgba(60, 64, 67, 0.3), 0 1px 3px 1px rgba(60, 64, 67, 0.15);\n",
              "    fill: var(--button-hover-fill-color);\n",
              "  }\n",
              "\n",
              "  .colab-df-quickchart-complete:disabled,\n",
              "  .colab-df-quickchart-complete:disabled:hover {\n",
              "    background-color: var(--disabled-bg-color);\n",
              "    fill: var(--disabled-fill-color);\n",
              "    box-shadow: none;\n",
              "  }\n",
              "\n",
              "  .colab-df-spinner {\n",
              "    border: 2px solid var(--fill-color);\n",
              "    border-color: transparent;\n",
              "    border-bottom-color: var(--fill-color);\n",
              "    animation:\n",
              "      spin 1s steps(1) infinite;\n",
              "  }\n",
              "\n",
              "  @keyframes spin {\n",
              "    0% {\n",
              "      border-color: transparent;\n",
              "      border-bottom-color: var(--fill-color);\n",
              "      border-left-color: var(--fill-color);\n",
              "    }\n",
              "    20% {\n",
              "      border-color: transparent;\n",
              "      border-left-color: var(--fill-color);\n",
              "      border-top-color: var(--fill-color);\n",
              "    }\n",
              "    30% {\n",
              "      border-color: transparent;\n",
              "      border-left-color: var(--fill-color);\n",
              "      border-top-color: var(--fill-color);\n",
              "      border-right-color: var(--fill-color);\n",
              "    }\n",
              "    40% {\n",
              "      border-color: transparent;\n",
              "      border-right-color: var(--fill-color);\n",
              "      border-top-color: var(--fill-color);\n",
              "    }\n",
              "    60% {\n",
              "      border-color: transparent;\n",
              "      border-right-color: var(--fill-color);\n",
              "    }\n",
              "    80% {\n",
              "      border-color: transparent;\n",
              "      border-right-color: var(--fill-color);\n",
              "      border-bottom-color: var(--fill-color);\n",
              "    }\n",
              "    90% {\n",
              "      border-color: transparent;\n",
              "      border-bottom-color: var(--fill-color);\n",
              "    }\n",
              "  }\n",
              "</style>\n",
              "\n",
              "  <script>\n",
              "    async function quickchart(key) {\n",
              "      const quickchartButtonEl =\n",
              "        document.querySelector('#' + key + ' button');\n",
              "      quickchartButtonEl.disabled = true;  // To prevent multiple clicks.\n",
              "      quickchartButtonEl.classList.add('colab-df-spinner');\n",
              "      try {\n",
              "        const charts = await google.colab.kernel.invokeFunction(\n",
              "            'suggestCharts', [key], {});\n",
              "      } catch (error) {\n",
              "        console.error('Error during call to suggestCharts:', error);\n",
              "      }\n",
              "      quickchartButtonEl.classList.remove('colab-df-spinner');\n",
              "      quickchartButtonEl.classList.add('colab-df-quickchart-complete');\n",
              "    }\n",
              "    (() => {\n",
              "      let quickchartButtonEl =\n",
              "        document.querySelector('#df-d2808095-1b96-416b-8a79-273b47758ef1 button');\n",
              "      quickchartButtonEl.style.display =\n",
              "        google.colab.kernel.accessAllowed ? 'block' : 'none';\n",
              "    })();\n",
              "  </script>\n",
              "</div>\n",
              "\n",
              "  <div id=\"id_27d79fa5-5727-4842-a600-74c10a6bc8fa\">\n",
              "    <style>\n",
              "      .colab-df-generate {\n",
              "        background-color: #E8F0FE;\n",
              "        border: none;\n",
              "        border-radius: 50%;\n",
              "        cursor: pointer;\n",
              "        display: none;\n",
              "        fill: #1967D2;\n",
              "        height: 32px;\n",
              "        padding: 0 0 0 0;\n",
              "        width: 32px;\n",
              "      }\n",
              "\n",
              "      .colab-df-generate:hover {\n",
              "        background-color: #E2EBFA;\n",
              "        box-shadow: 0px 1px 2px rgba(60, 64, 67, 0.3), 0px 1px 3px 1px rgba(60, 64, 67, 0.15);\n",
              "        fill: #174EA6;\n",
              "      }\n",
              "\n",
              "      [theme=dark] .colab-df-generate {\n",
              "        background-color: #3B4455;\n",
              "        fill: #D2E3FC;\n",
              "      }\n",
              "\n",
              "      [theme=dark] .colab-df-generate:hover {\n",
              "        background-color: #434B5C;\n",
              "        box-shadow: 0px 1px 3px 1px rgba(0, 0, 0, 0.15);\n",
              "        filter: drop-shadow(0px 1px 2px rgba(0, 0, 0, 0.3));\n",
              "        fill: #FFFFFF;\n",
              "      }\n",
              "    </style>\n",
              "    <button class=\"colab-df-generate\" onclick=\"generateWithVariable('df3')\"\n",
              "            title=\"Generate code using this dataframe.\"\n",
              "            style=\"display:none;\">\n",
              "\n",
              "  <svg xmlns=\"http://www.w3.org/2000/svg\" height=\"24px\"viewBox=\"0 0 24 24\"\n",
              "       width=\"24px\">\n",
              "    <path d=\"M7,19H8.4L18.45,9,17,7.55,7,17.6ZM5,21V16.75L18.45,3.32a2,2,0,0,1,2.83,0l1.4,1.43a1.91,1.91,0,0,1,.58,1.4,1.91,1.91,0,0,1-.58,1.4L9.25,21ZM18.45,9,17,7.55Zm-12,3A5.31,5.31,0,0,0,4.9,8.1,5.31,5.31,0,0,0,1,6.5,5.31,5.31,0,0,0,4.9,4.9,5.31,5.31,0,0,0,6.5,1,5.31,5.31,0,0,0,8.1,4.9,5.31,5.31,0,0,0,12,6.5,5.46,5.46,0,0,0,6.5,12Z\"/>\n",
              "  </svg>\n",
              "    </button>\n",
              "    <script>\n",
              "      (() => {\n",
              "      const buttonEl =\n",
              "        document.querySelector('#id_27d79fa5-5727-4842-a600-74c10a6bc8fa button.colab-df-generate');\n",
              "      buttonEl.style.display =\n",
              "        google.colab.kernel.accessAllowed ? 'block' : 'none';\n",
              "\n",
              "      buttonEl.onclick = () => {\n",
              "        google.colab.notebook.generateWithVariable('df3');\n",
              "      }\n",
              "      })();\n",
              "    </script>\n",
              "  </div>\n",
              "\n",
              "    </div>\n",
              "  </div>\n"
            ],
            "text/plain": [
              "         display_name   w   l total_points              user_id     _merge\n",
              "0           Martysods  12   3         2294   862530456044830720       both\n",
              "1           Tommypaal   9   6         2122  1004466862094139392       both\n",
              "2         browned out   9   6         2076                  NaN  left_only\n",
              "3        JakeReinking   9   6         2051  1004116113745125376       both\n",
              "4        BrandynWales   7   8         2064   461917932633452544       both\n",
              "5  Kelce x Swift = M8   7   8         1975                  NaN  left_only\n",
              "6               Squad   7   8         1842                  NaN  left_only\n",
              "7           Team vuke   6   9         1980                  NaN  left_only\n",
              "8    Ramdog Raw Dawgs   5  10         1817                  NaN  left_only\n",
              "9         kentnelson7   4  11         1624   609204637878255616       both"
            ]
          },
          "execution_count": 119,
          "metadata": {},
          "output_type": "execute_result"
        }
      ],
      "source": [
        "df3"
      ]
    },
    {
      "cell_type": "markdown",
      "metadata": {
        "id": "ayf5WeffdzmN"
      },
      "source": []
    },
    {
      "cell_type": "code",
      "execution_count": 110,
      "metadata": {
        "id": "iYjoHtNxdyIF"
      },
      "outputs": [],
      "source": [
        "user = User(461917932633452544)"
      ]
    },
    {
      "cell_type": "code",
      "execution_count": 112,
      "metadata": {
        "colab": {
          "base_uri": "https://localhost:8080/",
          "height": 35
        },
        "id": "4ICbGLBxi5BQ",
        "outputId": "2c48140b-44ba-4409-d1a5-9ae8572e42fa"
      },
      "outputs": [
        {
          "data": {
            "application/vnd.google.colaboratory.intrinsic+json": {
              "type": "string"
            },
            "text/plain": [
              "'brandynwales'"
            ]
          },
          "execution_count": 112,
          "metadata": {},
          "output_type": "execute_result"
        }
      ],
      "source": [
        "user.get_username()"
      ]
    },
    {
      "cell_type": "code",
      "execution_count": null,
      "metadata": {
        "id": "JVm_L_3WdyLN"
      },
      "outputs": [],
      "source": []
    },
    {
      "cell_type": "code",
      "execution_count": 88,
      "metadata": {
        "id": "lIYdn1woOS1n"
      },
      "outputs": [],
      "source": [
        "from sleeper_wrapper import League, User, Stats, Players\n",
        "\n",
        "# Set up the league owner username and league name\n",
        "league_owner = \"joelrday\"\n",
        "league_name = \"Dos Bowl\"\n",
        "\n",
        "# Initialize a User object to find the league\n",
        "user = User(league_owner)\n",
        "\n",
        "# Get all leagues for the user\n",
        "leagues = user.get_all_leagues('nfl', 2023)  # Use the appropriate season year\n",
        "\n",
        "# Find the league by name\n",
        "league_id = None\n",
        "for league in leagues:\n",
        "    if league['name'] == league_name:\n",
        "        league_id = league['league_id']\n",
        "        break\n",
        "league = League(league_id)\n",
        "\n",
        "rosters = league.get_rosters()\n",
        "users = league.get_users()\n",
        "\n",
        "league.get_standings(rosters, users)"
      ]
    },
    {
      "cell_type": "code",
      "execution_count": null,
      "metadata": {
        "id": "pcUc7I-XdxEO"
      },
      "outputs": [],
      "source": []
    },
    {
      "cell_type": "code",
      "execution_count": null,
      "metadata": {
        "id": "vjjCY6OuTbDZ"
      },
      "outputs": [],
      "source": []
    },
    {
      "cell_type": "code",
      "execution_count": null,
      "metadata": {
        "id": "xqHNL4kDeCZe"
      },
      "outputs": [],
      "source": []
    },
    {
      "cell_type": "code",
      "execution_count": null,
      "metadata": {
        "id": "m6Zt8N_HeCcF"
      },
      "outputs": [],
      "source": []
    },
    {
      "cell_type": "code",
      "execution_count": 103,
      "metadata": {
        "id": "XRMnb8vlcTUN"
      },
      "outputs": [],
      "source": [
        "\n",
        "# Find the league by name\n",
        "league_id = None\n",
        "for league in leagues:\n",
        "    if league['name'] == league_name:\n",
        "        league_id = league['league_id']\n",
        "        break\n",
        "league = League(league_id)\n",
        "\n",
        "rosters = league.get_rosters()\n",
        "users = league.get_users()\n",
        "\n",
        "league.get_standings(rosters, users)"
      ]
    },
    {
      "cell_type": "code",
      "execution_count": 13,
      "metadata": {
        "id": "6juG265SeAU2"
      },
      "outputs": [
        {
          "name": "stdout",
          "output_type": "stream",
          "text": [
            "Dos Bowl\n",
            "Bakery Football League\n",
            "Bakery Football Franchise Mode\n"
          ]
        }
      ],
      "source": [
        "for league in leagues:\n",
        "  print(league['name'])"
      ]
    },
    {
      "cell_type": "code",
      "execution_count": 100,
      "metadata": {
        "colab": {
          "base_uri": "https://localhost:8080/"
        },
        "id": "bEKTpWCoN3QQ",
        "outputId": "3b2df058-d39c-41d4-8341-cf1cb8473dd2"
      },
      "outputs": [
        {
          "name": "stdout",
          "output_type": "stream",
          "text": [
            "461917932633452544\n",
            "609204637878255616\n",
            "862530456044830720\n",
            "867945203519094784\n",
            "869024836087918592\n",
            "999477106939736064\n",
            "1003920567591870464\n",
            "1004116113745125376\n",
            "1004466862094139392\n",
            "1004491639433383936\n"
          ]
        }
      ],
      "source": [
        "for u in league.get_users():\n",
        "  a = u['user_id']\n",
        "  print(a)"
      ]
    },
    {
      "cell_type": "code",
      "execution_count": 68,
      "metadata": {
        "colab": {
          "base_uri": "https://localhost:8080/"
        },
        "id": "8C1W1SxuIy5T",
        "outputId": "3fb230fd-3597-4eff-bbcc-01ab49181dbc"
      },
      "outputs": [
        {
          "data": {
            "text/plain": [
              "[{'m': 1, 'r': 1, 'l': 3, 'w': 10, 't1': 3, 't2': 10},\n",
              " {'m': 2, 'r': 1, 'l': 8, 'w': 2, 't1': 2, 't2': 8},\n",
              " {'m': 3, 'r': 2, 'l': 9, 'w': 10, 't1': 9, 't2': 10, 't2_from': {'w': 1}},\n",
              " {'m': 4, 'r': 2, 'l': 5, 'w': 2, 't1': 5, 't2': 2, 't2_from': {'w': 2}},\n",
              " {'p': 5,\n",
              "  'm': 5,\n",
              "  'r': 2,\n",
              "  'l': 3,\n",
              "  'w': 8,\n",
              "  't1': 3,\n",
              "  't2': 8,\n",
              "  't2_from': {'l': 2},\n",
              "  't1_from': {'l': 1}},\n",
              " {'p': 1,\n",
              "  'm': 6,\n",
              "  'r': 3,\n",
              "  'l': 2,\n",
              "  'w': 10,\n",
              "  't1': 10,\n",
              "  't2': 2,\n",
              "  't2_from': {'w': 4},\n",
              "  't1_from': {'w': 3}},\n",
              " {'p': 3,\n",
              "  'm': 7,\n",
              "  'r': 3,\n",
              "  'l': 9,\n",
              "  'w': 5,\n",
              "  't1': 9,\n",
              "  't2': 5,\n",
              "  't2_from': {'l': 4},\n",
              "  't1_from': {'l': 3}}]"
            ]
          },
          "execution_count": 68,
          "metadata": {},
          "output_type": "execute_result"
        }
      ],
      "source": [
        "league.get_playoff_winners_bracket()"
      ]
    }
  ],
  "metadata": {
    "colab": {
      "name": "scratchpad",
      "provenance": []
    },
    "kernelspec": {
      "display_name": "Python 3",
      "name": "python3"
    },
    "language_info": {
      "codemirror_mode": {
        "name": "ipython",
        "version": 3
      },
      "file_extension": ".py",
      "mimetype": "text/x-python",
      "name": "python",
      "nbconvert_exporter": "python",
      "pygments_lexer": "ipython3",
      "version": "3.12.4"
    }
  },
  "nbformat": 4,
  "nbformat_minor": 0
}
