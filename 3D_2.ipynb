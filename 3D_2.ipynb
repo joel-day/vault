{
 "cells": [
  {
   "cell_type": "code",
   "execution_count": 3,
   "id": "207e04d8",
   "metadata": {},
   "outputs": [
    {
     "name": "stdout",
     "output_type": "stream",
     "text": [
      "^C\n"
     ]
    }
   ],
   "source": [
    "!pip install moviepy"
   ]
  },
  {
   "cell_type": "code",
   "execution_count": 1,
   "id": "130d6cd1",
   "metadata": {},
   "outputs": [],
   "source": [
    "import os\n",
    "import pandas as pd\n",
    "import requests\n",
    "from PIL import Image\n",
    "from io import BytesIO\n",
    "from moviepy.editor import ImageSequenceClip"
   ]
  },
  {
   "cell_type": "code",
   "execution_count": 2,
   "id": "bbc7578a",
   "metadata": {},
   "outputs": [],
   "source": [
    "# Constants\n",
    "CSV_FILE = '0314.csv'\n",
    "API_KEY = 'YOUR_GOOGLE_MAPS_API_KEY'\n",
    "IMG_DIR = 'images'\n",
    "OUTPUT_VIDEO = 'output.mp4'"
   ]
  },
  {
   "cell_type": "code",
   "execution_count": 3,
   "id": "cfb09f61",
   "metadata": {},
   "outputs": [],
   "source": [
    "def get_map_image(lat, lon, zoom=18, width=400, height=400, map_type='satellite'):\n",
    "    url = f'https://maps.googleapis.com/maps/api/staticmap?center={lat},{lon}&zoom={zoom}&size={width}x{height}&maptype={map_type}&markers=color:red%7Clabel:C%7C{lat},{lon}&key={API_KEY}'\n",
    "    response = requests.get(url)\n",
    "    return Image.open(BytesIO(response.content))"
   ]
  },
  {
   "cell_type": "code",
   "execution_count": null,
   "id": "34243a23",
   "metadata": {},
   "outputs": [],
   "source": []
  }
 ],
 "metadata": {
  "kernelspec": {
   "display_name": "Python 3 (ipykernel)",
   "language": "python",
   "name": "python3"
  },
  "language_info": {
   "codemirror_mode": {
    "name": "ipython",
    "version": 3
   },
   "file_extension": ".py",
   "mimetype": "text/x-python",
   "name": "python",
   "nbconvert_exporter": "python",
   "pygments_lexer": "ipython3",
   "version": "3.11.0"
  }
 },
 "nbformat": 4,
 "nbformat_minor": 5
}
