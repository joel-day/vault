{
 "cells": [
  {
   "cell_type": "markdown",
   "id": "9c473f2a",
   "metadata": {},
   "source": [
    "# Setup All Workshop Dependencies\n",
    "### Pip\n",
    "### AWS CLI and AWS Python SDK (boto3)\n",
    "### SageMaker\n",
    "### PyTorch\n",
    "### TensorFlow\n",
    "### Hugging Face Transformers (BERT)\n",
    "### TorchServe\n",
    "### PyAthena\n",
    "### Redshift\n",
    "### AWS Data Wrangler\n",
    "### StepFunctions\n",
    "### Zip\n",
    "### Matplotlib\n",
    "### Seaborn"
   ]
  },
  {
   "cell_type": "markdown",
   "id": "ca2c7be7",
   "metadata": {},
   "source": [
    "# S3 is a key value store. You can share it with others, not stored on single server, great way to store anything!"
   ]
  },
  {
   "cell_type": "markdown",
   "id": "0b3cf756",
   "metadata": {},
   "source": [
    "## Use Boto3 to create new session"
   ]
  },
  {
   "cell_type": "code",
   "execution_count": null,
   "id": "937fabe9",
   "metadata": {},
   "outputs": [],
   "source": [
    "import boto3\n",
    "import sagemaker\n",
    "\n",
    "session = boto3.session.Session()\n",
    "region = session.region_name\n",
    "sagemaker_session = sagemaker.Session()\n",
    "bucket = sagemaker_session.default_bucket()\n",
    "\n",
    "s3 = boto3.Session().client(service_name=\"s3\", region_name=region)"
   ]
  },
  {
   "cell_type": "markdown",
   "id": "27b3cc4c",
   "metadata": {},
   "source": [
    "## List everything in bucket"
   ]
  },
  {
   "cell_type": "code",
   "execution_count": 11,
   "id": "6cff7063",
   "metadata": {},
   "outputs": [],
   "source": [
    "#!aws s3 ls s3://${bucket}/"
   ]
  },
  {
   "cell_type": "markdown",
   "id": "1a474379",
   "metadata": {},
   "source": [
    "## Make sure the we can access bucket by retrieving only the head"
   ]
  },
  {
   "cell_type": "code",
   "execution_count": null,
   "id": "18fe8ef5",
   "metadata": {},
   "outputs": [],
   "source": [
    "from botocore.client import ClientError\n",
    "\n",
    "response = None\n",
    "\n",
    "try:\n",
    "    response = s3.head_bucket(Bucket=bucket)\n",
    "    print(response)\n",
    "    setup_s3_bucket_passed = True\n",
    "except ClientError as e:\n",
    "    print(\"[ERROR] Cannot find bucket {} in {} due to {}.\".format(bucket, response, e))"
   ]
  },
  {
   "cell_type": "markdown",
   "id": "cc9e367a",
   "metadata": {},
   "source": [
    "## Use 'store' to move variables across sheets"
   ]
  },
  {
   "cell_type": "markdown",
   "id": "fb8b82d0",
   "metadata": {},
   "source": [
    "#### Best for small things. Store output of Sheet1 then Load into Sheet2"
   ]
  },
  {
   "cell_type": "code",
   "execution_count": 13,
   "id": "f3945efe",
   "metadata": {},
   "outputs": [],
   "source": [
    "#%store setup_s3_bucket_passed"
   ]
  },
  {
   "cell_type": "code",
   "execution_count": null,
   "id": "5259ac41",
   "metadata": {},
   "outputs": [],
   "source": []
  },
  {
   "cell_type": "code",
   "execution_count": null,
   "id": "4a5287a2",
   "metadata": {},
   "outputs": [],
   "source": []
  }
 ],
 "metadata": {
  "kernelspec": {
   "display_name": "Python 3 (ipykernel)",
   "language": "python",
   "name": "python3"
  },
  "language_info": {
   "codemirror_mode": {
    "name": "ipython",
    "version": 3
   },
   "file_extension": ".py",
   "mimetype": "text/x-python",
   "name": "python",
   "nbconvert_exporter": "python",
   "pygments_lexer": "ipython3",
   "version": "3.10.2"
  }
 },
 "nbformat": 4,
 "nbformat_minor": 5
}
