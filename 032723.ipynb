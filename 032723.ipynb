{
 "cells": [
  {
   "cell_type": "markdown",
   "id": "9c473f2a",
   "metadata": {},
   "source": [
    "# Setup All Workshop Dependencies\n",
    "### Pip\n",
    "### AWS CLI and AWS Python SDK (boto3)\n",
    "### SageMaker\n",
    "### PyTorch\n",
    "### TensorFlow\n",
    "### Hugging Face Transformers (BERT)\n",
    "### TorchServe\n",
    "### PyAthena\n",
    "### Redshift\n",
    "### AWS Data Wrangler\n",
    "### StepFunctions\n",
    "### Zip\n",
    "### Matplotlib\n",
    "### Seaborn"
   ]
  },
  {
   "cell_type": "code",
   "execution_count": 10,
   "id": "b9b2b991",
   "metadata": {},
   "outputs": [
    {
     "name": "stderr",
     "output_type": "stream",
     "text": [
      "error: remote vault already exists.\n"
     ]
    }
   ],
   "source": [
    "!git remote add vault https://github.com/joel-day/vault"
   ]
  },
  {
   "cell_type": "code",
   "execution_count": 11,
   "id": "884b8e73",
   "metadata": {},
   "outputs": [
    {
     "name": "stdout",
     "output_type": "stream",
     "text": [
      "origin\thttps://github.com/joel-day/vault (fetch)\n",
      "origin\thttps://github.com/joel-day/vault (push)\n",
      "vault\thttps://github.com/joel-day/vault (fetch)\n",
      "vault\thttps://github.com/joel-day/vault (push)\n"
     ]
    }
   ],
   "source": [
    "!git remote -v"
   ]
  },
  {
   "cell_type": "markdown",
   "id": "ca2c7be7",
   "metadata": {},
   "source": [
    "# S3 is a key value store. You can share it with others, not stored on single server, great way to store anything!"
   ]
  },
  {
   "cell_type": "markdown",
   "id": "0b3cf756",
   "metadata": {},
   "source": [
    "## Use Boto3 to create new session"
   ]
  },
  {
   "cell_type": "code",
   "execution_count": null,
   "id": "937fabe9",
   "metadata": {},
   "outputs": [],
   "source": [
    "import boto3\n",
    "import sagemaker\n",
    "\n",
    "session = boto3.session.Session()\n",
    "region = session.region_name\n",
    "sagemaker_session = sagemaker.Session()\n",
    "bucket = sagemaker_session.default_bucket()\n",
    "\n",
    "s3 = boto3.Session().client(service_name=\"s3\", region_name=region)"
   ]
  },
  {
   "cell_type": "markdown",
   "id": "27b3cc4c",
   "metadata": {},
   "source": [
    "## List everything in bucket"
   ]
  },
  {
   "cell_type": "code",
   "execution_count": 11,
   "id": "6cff7063",
   "metadata": {},
   "outputs": [],
   "source": [
    "#!aws s3 ls s3://${bucket}/"
   ]
  },
  {
   "cell_type": "markdown",
   "id": "1a474379",
   "metadata": {},
   "source": [
    "## Make sure the we can access bucket by retrieving only the head"
   ]
  },
  {
   "cell_type": "code",
   "execution_count": null,
   "id": "18fe8ef5",
   "metadata": {},
   "outputs": [],
   "source": [
    "from botocore.client import ClientError\n",
    "\n",
    "response = None\n",
    "\n",
    "try:\n",
    "    response = s3.head_bucket(Bucket=bucket)\n",
    "    print(response)\n",
    "    setup_s3_bucket_passed = True\n",
    "except ClientError as e:\n",
    "    print(\"[ERROR] Cannot find bucket {} in {} due to {}.\".format(bucket, response, e))"
   ]
  },
  {
   "cell_type": "markdown",
   "id": "cc9e367a",
   "metadata": {},
   "source": [
    "## Use 'store' to move variables across sheets"
   ]
  },
  {
   "cell_type": "markdown",
   "id": "fb8b82d0",
   "metadata": {},
   "source": [
    "#### Best for small things. Store output of Sheet1 then Load into Sheet2"
   ]
  },
  {
   "cell_type": "code",
   "execution_count": 13,
   "id": "f3945efe",
   "metadata": {},
   "outputs": [],
   "source": [
    "#%store setup_s3_bucket_passed"
   ]
  },
  {
   "cell_type": "markdown",
   "id": "a1e2249f",
   "metadata": {},
   "source": [
    "# Use Amazon Rekognition to identify celebs in Photos and Movies "
   ]
  },
  {
   "cell_type": "markdown",
   "id": "e6c49462",
   "metadata": {},
   "source": [
    "## Photos"
   ]
  },
  {
   "cell_type": "markdown",
   "id": "b57ae1fd",
   "metadata": {},
   "source": [
    "#### Import libraries "
   ]
  },
  {
   "cell_type": "code",
   "execution_count": 1,
   "id": "48e23377",
   "metadata": {},
   "outputs": [],
   "source": [
    "import boto3\n",
    "from IPython.display import HTML, display, Image as IImage\n",
    "from PIL import Image, ImageDraw, ImageFont\n",
    "import time\n",
    "import os"
   ]
  },
  {
   "cell_type": "markdown",
   "id": "340bf3dc",
   "metadata": {},
   "source": [
    "#### Create Amazon Rekognition Instance"
   ]
  },
  {
   "cell_type": "code",
   "execution_count": 5,
   "id": "b1f91017",
   "metadata": {},
   "outputs": [],
   "source": [
    "import sagemaker\n",
    "import boto3\n",
    "\n",
    "sagemaker_session = sagemaker.Session()\n",
    "role = sagemaker.get_execution_role()\n",
    "bucket = sagemaker_session.default_bucket()\n",
    "region = boto3.Session().region_name\n",
    "\n",
    "rekognition = boto3.client(\"rekognition\")\n",
    "s3 = boto3.client(\"s3\")"
   ]
  },
  {
   "cell_type": "markdown",
   "id": "46004a61",
   "metadata": {},
   "source": [
    "#### Create a Temp Folder "
   ]
  },
  {
   "cell_type": "code",
   "execution_count": 2,
   "id": "a654c870",
   "metadata": {},
   "outputs": [
    {
     "name": "stderr",
     "output_type": "stream",
     "text": [
      "The syntax of the command is incorrect.\n"
     ]
    }
   ],
   "source": [
    "!mkdir -p ./tmp\n",
    "temp_folder = \"tmp/\""
   ]
  },
  {
   "cell_type": "markdown",
   "id": "e16b0bc9",
   "metadata": {},
   "source": [
    "#### Uplaod image then display it for fun "
   ]
  },
  {
   "cell_type": "code",
   "execution_count": null,
   "id": "ee1a65c8",
   "metadata": {},
   "outputs": [],
   "source": [
    "imageName = \"content-moderation/media/GrandTourjc.png\"\n",
    "display(IImage(url=s3.generate_presigned_url(\"get_object\", Params={\"Bucket\": bucket, \"Key\": imageName})))"
   ]
  },
  {
   "cell_type": "markdown",
   "id": "2dd17a1f",
   "metadata": {},
   "source": [
    "#### Run it!"
   ]
  },
  {
   "cell_type": "code",
   "execution_count": null,
   "id": "2eab7833",
   "metadata": {},
   "outputs": [],
   "source": [
    "recognizeCelebritiesResponse = rekognition.recognize_celebrities(\n",
    "    Image={\n",
    "        \"S3Object\": {\n",
    "            \"Bucket\": bucket,\n",
    "            \"Name\": imageName,\n",
    "        }\n",
    "    }\n",
    ")\n",
    "display(recognizeCelebritiesResponse)"
   ]
  },
  {
   "cell_type": "markdown",
   "id": "0280b9d4",
   "metadata": {},
   "source": [
    "#### Show Image with Bounding Boxes Around Recognized Celebrities"
   ]
  },
  {
   "cell_type": "code",
   "execution_count": null,
   "id": "77232ab9",
   "metadata": {},
   "outputs": [],
   "source": [
    "def drawBoundingBoxes(sourceImage, boxes):\n",
    "    # blue, green, red, grey\n",
    "    colors = ((255, 255, 255), (255, 255, 255), (76, 182, 252), (52, 194, 123))\n",
    "\n",
    "    # Download image locally\n",
    "    imageLocation = temp_folder + os.path.basename(sourceImage)\n",
    "    s3.download_file(bucket, sourceImage, imageLocation)\n",
    "\n",
    "    # Draws BB on Image\n",
    "    bbImage = Image.open(imageLocation)\n",
    "    draw = ImageDraw.Draw(bbImage)\n",
    "    width, height = bbImage.size\n",
    "    col = 0\n",
    "    maxcol = len(colors)\n",
    "    line = 3\n",
    "    for box in boxes:\n",
    "        x1 = int(box[1][\"Left\"] * width)\n",
    "        y1 = int(box[1][\"Top\"] * height)\n",
    "        x2 = int(box[1][\"Left\"] * width + box[1][\"Width\"] * width)\n",
    "        y2 = int(box[1][\"Top\"] * height + box[1][\"Height\"] * height)\n",
    "\n",
    "        draw.text((x1, y1), box[0], colors[col])\n",
    "        for l in range(line):\n",
    "            draw.rectangle((x1 - l, y1 - l, x2 + l, y2 + l), outline=colors[col])\n",
    "        col = (col + 1) % maxcol\n",
    "\n",
    "    imageFormat = \"PNG\"\n",
    "    ext = sourceImage.lower()\n",
    "    if ext.endswith(\"jpg\") or ext.endswith(\"jpeg\"):\n",
    "        imageFormat = \"JPEG\"\n",
    "\n",
    "    bbImage.save(imageLocation, format=imageFormat)\n",
    "\n",
    "    display(bbImage)"
   ]
  },
  {
   "cell_type": "code",
   "execution_count": null,
   "id": "8b80ceda",
   "metadata": {},
   "outputs": [],
   "source": [
    "boxes = []\n",
    "celebrities = recognizeCelebritiesResponse[\"CelebrityFaces\"]\n",
    "for celebrity in celebrities:\n",
    "    boxes.append((celebrity[\"Name\"], celebrity[\"Face\"][\"BoundingBox\"]))\n",
    "\n",
    "drawBoundingBoxes(imageName, boxes)"
   ]
  },
  {
   "cell_type": "markdown",
   "id": "866385d9",
   "metadata": {},
   "source": [
    "## Videos"
   ]
  },
  {
   "cell_type": "markdown",
   "id": "a761a5a9",
   "metadata": {},
   "source": [
    "#### Load video (may be wrong)"
   ]
  },
  {
   "cell_type": "code",
   "execution_count": null,
   "id": "29ba5dd6",
   "metadata": {},
   "outputs": [],
   "source": [
    "videoName = \"content-moderation/media/GrandTour720.mp4\"\n",
    "strDetail = \"Celebrites detected in video<br>=======================================<br>\"\n",
    "strOverall = \"Celebrities in the overall video:<br>=======================================<br>\""
   ]
  },
  {
   "cell_type": "code",
   "execution_count": null,
   "id": "fc884ad8",
   "metadata": {},
   "outputs": [],
   "source": [
    "s3FilePrefix = \"https://s3.amazonaws.com\"\n",
    "if not region == \"us-east-1\":\n",
    "    s3FilePrefix = \"https://s3-{}.amazonaws.com\".format(region)\n",
    "\n",
    "s3VideoUrl = \"{0}/{1}/{2}\".format(s3FilePrefix, bucket, videoName)\n",
    "\n",
    "videoTag = \"<video controls='controls' autoplay width='640' height='360' name='Video' src='{0}'></video>\".format(\n",
    "    s3VideoUrl\n",
    ")\n",
    "\n",
    "videoui = \"<table><tr><td style='vertical-align: top'>{}</td></tr><tr><td>{}</td></tr></table>\".format(\n",
    "    videoTag, strDetail\n",
    ")\n",
    "\n",
    "display(HTML(videoui))"
   ]
  },
  {
   "cell_type": "markdown",
   "id": "1112c5b1",
   "metadata": {},
   "source": [
    "#### Run it!"
   ]
  },
  {
   "cell_type": "code",
   "execution_count": null,
   "id": "71e71b6d",
   "metadata": {},
   "outputs": [],
   "source": [
    "startCelebrityRekognition = rekognition.start_celebrity_recognition(\n",
    "    Video={\n",
    "        \"S3Object\": {\n",
    "            \"Bucket\": bucket,\n",
    "            \"Name\": videoName,\n",
    "        }\n",
    "    },\n",
    ")\n",
    "\n",
    "celebrityJobId = startCelebrityRekognition[\"JobId\"]\n",
    "display(\"Job Id: {0}\".format(celebrityJobId))"
   ]
  },
  {
   "cell_type": "markdown",
   "id": "2c5f3b3d",
   "metadata": {},
   "source": [
    "#### Wait for Celebrity Rekognition Job to Complete\n",
    "###### In production use cases, you would usually use StepFucntion or SNS topic to get notified when job is complete."
   ]
  },
  {
   "cell_type": "code",
   "execution_count": null,
   "id": "3360ce63",
   "metadata": {},
   "outputs": [],
   "source": [
    "%%time\n",
    "\n",
    "getCelebrityRecognition = rekognition.get_celebrity_recognition(JobId=celebrityJobId, SortBy=\"TIMESTAMP\")\n",
    "\n",
    "while getCelebrityRecognition[\"JobStatus\"] == \"IN_PROGRESS\":\n",
    "    time.sleep(5)\n",
    "    print(\".\", end=\"\")\n",
    "\n",
    "    getCelebrityRecognition = rekognition.get_celebrity_recognition(JobId=celebrityJobId, SortBy=\"TIMESTAMP\")\n",
    "\n",
    "display(getCelebrityRecognition[\"JobStatus\"])"
   ]
  },
  {
   "cell_type": "code",
   "execution_count": null,
   "id": "7998a179",
   "metadata": {},
   "outputs": [],
   "source": [
    "display(getCelebrityRecognition)"
   ]
  },
  {
   "cell_type": "markdown",
   "id": "21fd0124",
   "metadata": {},
   "source": [
    "#### Display Names of Recognized Celebrities in the Video\n",
    "#### Display timestamps and celebrites detected at that time."
   ]
  },
  {
   "cell_type": "code",
   "execution_count": null,
   "id": "35f2619a",
   "metadata": {},
   "outputs": [],
   "source": [
    "theCelebs = {}\n",
    "\n",
    "# Celebrities detected in each frame\n",
    "for celebrity in getCelebrityRecognition[\"Celebrities\"]:\n",
    "    if \"Celebrity\" in celebrity:\n",
    "        cconfidence = celebrity[\"Celebrity\"][\"Confidence\"]\n",
    "        if cconfidence > 95:\n",
    "            ts = celebrity[\"Timestamp\"]\n",
    "            cname = celebrity[\"Celebrity\"][\"Name\"]\n",
    "            strDetail = strDetail + \"At {} ms: {} (Confidence: {})<br>\".format(ts, cname, round(cconfidence, 2))\n",
    "            if not cname in theCelebs:\n",
    "                theCelebs[cname] = cname\n",
    "\n",
    "\n",
    "# Unique faces detected in video\n",
    "for theCeleb in theCelebs:\n",
    "    strOverall = strOverall + \"Name: {}<br>\".format(theCeleb)\n",
    "\n",
    "# Display results\n",
    "display(HTML(strOverall))"
   ]
  },
  {
   "cell_type": "markdown",
   "id": "1477031f",
   "metadata": {},
   "source": [
    "# Content Moderation API"
   ]
  },
  {
   "cell_type": "markdown",
   "id": "f709c1c1",
   "metadata": {},
   "source": []
  },
  {
   "cell_type": "code",
   "execution_count": null,
   "id": "fe6c9f7b",
   "metadata": {},
   "outputs": [],
   "source": [
    "import boto3\n",
    "from IPython.display import Image as IImage, display\n",
    "from IPython.display import HTML, display\n",
    "from PIL import Image, ImageDraw, ImageFont\n",
    "import time\n",
    "import os\n",
    "\n",
    "import sagemaker\n",
    "import boto3\n",
    "\n",
    "sagemaker_session = sagemaker.Session()\n",
    "role = sagemaker.get_execution_role()\n",
    "bucket = sagemaker_session.default_bucket()\n",
    "region = boto3.Session().region_name\n",
    "\n",
    "rekognition = boto3.client(\"rekognition\")\n",
    "s3 = boto3.client(\"s3\")"
   ]
  },
  {
   "cell_type": "markdown",
   "id": "7543b873",
   "metadata": {},
   "source": [
    "#### Load Image"
   ]
  },
  {
   "cell_type": "code",
   "execution_count": null,
   "id": "38ce446d",
   "metadata": {},
   "outputs": [],
   "source": [
    "imageName = \"content-moderation/media/weapon.png\"\n",
    "display(IImage(url=s3.generate_presigned_url(\"get_object\", Params={\"Bucket\": bucket, \"Key\": imageName})))"
   ]
  },
  {
   "cell_type": "markdown",
   "id": "bdbf9c7f",
   "metadata": {},
   "source": [
    "#### Run it!"
   ]
  },
  {
   "cell_type": "code",
   "execution_count": 8,
   "id": "e616b331",
   "metadata": {},
   "outputs": [],
   "source": [
    "detectModerationLabelsResponse = rekognition.detect_moderation_labels(\n",
    "    Image={\n",
    "        \"S3Object\": {\n",
    "            \"Bucket\": bucket,\n",
    "            \"Name\": imageName,\n",
    "        }\n",
    "    }\n",
    ")\n",
    "\n",
    "display(detectModerationLabelsResponse)"
   ]
  },
  {
   "cell_type": "markdown",
   "id": "4636355b",
   "metadata": {},
   "source": [
    "#### Display list of detected moderation labels"
   ]
  },
  {
   "cell_type": "code",
   "execution_count": null,
   "id": "5f9dadb9",
   "metadata": {},
   "outputs": [],
   "source": [
    "for label in detectModerationLabelsResponse[\"ModerationLabels\"]:\n",
    "    print(\"- {} (Confidence: {})\".format(label[\"Name\"], label[\"Confidence\"]))\n",
    "    print(\"  - Parent: {}\".format(label[\"ParentName\"]))"
   ]
  }
 ],
 "metadata": {
  "kernelspec": {
   "display_name": "Python 3 (ipykernel)",
   "language": "python",
   "name": "python3"
  },
  "language_info": {
   "codemirror_mode": {
    "name": "ipython",
    "version": 3
   },
   "file_extension": ".py",
   "mimetype": "text/x-python",
   "name": "python",
   "nbconvert_exporter": "python",
   "pygments_lexer": "ipython3",
   "version": "3.10.2"
  }
 },
 "nbformat": 4,
 "nbformat_minor": 5
}
