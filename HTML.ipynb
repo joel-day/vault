{
  "cells": [
    {
      "cell_type": "markdown",
      "metadata": {
        "id": "UxGg8srFN0M9"
      },
      "source": [
        "# HTML"
      ]
    },
    {
      "cell_type": "code",
      "execution_count": null,
      "metadata": {
        "colab": {
          "base_uri": "https://localhost:8080/",
          "height": 46
        },
        "id": "xFPOKRm3NIIL",
        "outputId": "33e6b9c4-f66b-4f95-f8e3-e2e8931da2e7"
      },
      "outputs": [
        {
          "data": {
            "text/html": [
              "<table align=\"left\">\n",
              "  <td>\n",
              "    <a href=\"https://colab.research.google.com/github/ageron/handson-ml3/blob/main/14_deep_computer_vision_with_cnns.ipynb\" target=\"_parent\"><img src=\"https://colab.research.google.com/assets/colab-badge.svg\" alt=\"Open In Colab\"/></a>\n",
              "  </td>\n",
              "  <td>\n",
              "    <a target=\"_blank\" href=\"https://kaggle.com/kernels/welcome?src=https://github.com/ageron/handson-ml3/blob/main/14_deep_computer_vision_with_cnns.ipynb\"><img src=\"https://kaggle.com/static/images/open-in-kaggle.svg\" /></a>\n",
              "  </td>\n",
              "</table>\n"
            ],
            "text/plain": [
              "<IPython.core.display.HTML object>"
            ]
          },
          "metadata": {},
          "output_type": "display_data"
        }
      ],
      "source": [
        "%%html\n",
        "<table align=\"left\">\n",
        "  <td>\n",
        "    <a href=\"https://colab.research.google.com/github/ageron/handson-ml3/blob/main/14_deep_computer_vision_with_cnns.ipynb\" target=\"_parent\"><img src=\"https://colab.research.google.com/assets/colab-badge.svg\" alt=\"Open In Colab\"/></a>\n",
        "  </td>\n",
        "  <td>\n",
        "    <a target=\"_blank\" href=\"https://kaggle.com/kernels/welcome?src=https://github.com/ageron/handson-ml3/blob/main/14_deep_computer_vision_with_cnns.ipynb\"><img src=\"https://kaggle.com/static/images/open-in-kaggle.svg\" /></a>\n",
        "  </td>\n",
        "</table>"
      ]
    },
    {
      "cell_type": "code",
      "execution_count": null,
      "metadata": {
        "id": "9vS43r4VOjFI"
      },
      "outputs": [],
      "source": [
        "# run java\n",
        "# %%javascript"
      ]
    },
    {
      "cell_type": "code",
      "execution_count": null,
      "metadata": {
        "id": "YBt6NKx4OReD"
      },
      "outputs": [],
      "source": [
        "# This code should show an SVG image linking people to colab notebook 'x'\n",
        "#[![Open In Colab](https://colab.research.google.com/assets/colab-badge.svg)](https://colab.research.google.com/notebooks/basic_features_overview.ipynb)\n"
      ]
    },
    {
      "cell_type": "code",
      "execution_count": null,
      "metadata": {
        "colab": {
          "base_uri": "https://localhost:8080/",
          "height": 51
        },
        "id": "9b0d0a42",
        "outputId": "942d1945-f5c6-40be-f47b-82f5749d5768"
      },
      "outputs": [
        {
          "data": {
            "text/html": [
              "<a class=\"github-button\" href=\"https://github.com/joel-day\" data-color-scheme=\"no-preference: light; light: light; dark: light;\" data-size=\"large\" aria-label=\"Follow @joel-day on GitHub\">Follow @joel-day</a>\n",
              "<script async defer src=\"https://buttons.github.io/buttons.js\"></script>\n"
            ],
            "text/plain": [
              "<IPython.core.display.HTML object>"
            ]
          },
          "metadata": {},
          "output_type": "display_data"
        }
      ],
      "source": [
        "%%html\n",
        "<a class=\"github-button\" href=\"https://github.com/joel-day\" data-color-scheme=\"no-preference: light; light: light; dark: light;\" data-size=\"large\" aria-label=\"Follow @joel-day on GitHub\">Follow @joel-day</a>\n",
        "<script async defer src=\"https://buttons.github.io/buttons.js\"></script>"
      ]
    },
    {
      "cell_type": "code",
      "execution_count": null,
      "metadata": {
        "colab": {
          "base_uri": "https://localhost:8080/",
          "height": 50
        },
        "id": "be583fe0",
        "outputId": "7244d742-2040-45d5-b553-3ef2c45f6848"
      },
      "outputs": [
        {
          "data": {
            "text/html": [
              "\n",
              "<a href=\"https://twitter.com/insaylo\" class=\"twitter-follow-button\" data-size=\"large\" data-lang=\"en\" data-show-count=\"false\">Follow @cfregly</a>\n",
              "<script async src=\"https://platform.twitter.com/widgets.js\" charset=\"utf-8\"></script>\n"
            ],
            "text/plain": [
              "<IPython.core.display.HTML object>"
            ]
          },
          "metadata": {},
          "output_type": "display_data"
        }
      ],
      "source": [
        "%%html\n",
        "\n",
        "<a href=\"https://twitter.com/insaylo\" class=\"twitter-follow-button\" data-size=\"large\" data-lang=\"en\" data-show-count=\"false\">Follow @cfregly</a>\n",
        "<script async src=\"https://platform.twitter.com/widgets.js\" charset=\"utf-8\"></script>"
      ]
    },
    {
      "cell_type": "code",
      "execution_count": null,
      "metadata": {
        "colab": {
          "base_uri": "https://localhost:8080/",
          "height": 392
        },
        "id": "462f20c8",
        "outputId": "7c8f3a80-72ba-4126-9b43-67bf48da8796"
      },
      "outputs": [
        {
          "data": {
            "text/html": [
              "\n",
              "<iframe src=\"https://www.google.com/maps/embed?pb=!1m18!1m12!1m3!1d22226.67450656437!2d-118.33309328763683!3d34.09475789489799!2m3!1f0!2f0!3f0!3m2!1i1024!2i768!4f13.1!3m3!1m2!1s0x80c2bfe75223baa5%3A0xeff430e34f46406!2sSecond%20Home%20Hollywood!5e0!3m2!1sen!2sus!4v1679964985291!5m2!1sen!2sus\" width=\"950\" height=\"350\" style=\"border:0;\" allowfullscreen=\"\" loading=\"lazy\" referrerpolicy=\"no-referrer-when-downgrade\"></iframe>\n"
            ],
            "text/plain": [
              "<IPython.core.display.HTML object>"
            ]
          },
          "metadata": {},
          "output_type": "display_data"
        }
      ],
      "source": [
        "%%html\n",
        "\n",
        "<iframe src=\"https://www.google.com/maps/embed?pb=!1m18!1m12!1m3!1d22226.67450656437!2d-118.33309328763683!3d34.09475789489799!2m3!1f0!2f0!3f0!3m2!1i1024!2i768!4f13.1!3m3!1m2!1s0x80c2bfe75223baa5%3A0xeff430e34f46406!2sSecond%20Home%20Hollywood!5e0!3m2!1sen!2sus!4v1679964985291!5m2!1sen!2sus\" width=\"950\" height=\"350\" style=\"border:0;\" allowfullscreen=\"\" loading=\"lazy\" referrerpolicy=\"no-referrer-when-downgrade\"></iframe>"
      ]
    },
    {
      "cell_type": "code",
      "execution_count": null,
      "metadata": {
        "id": "ig07V3K7kcFn"
      },
      "outputs": [],
      "source": []
    },
    {
      "cell_type": "code",
      "execution_count": null,
      "metadata": {
        "colab": {
          "base_uri": "https://localhost:8080/",
          "height": 577
        },
        "id": "3fb9d873",
        "outputId": "5ab60364-e804-45c0-e7b1-1707c851688d"
      },
      "outputs": [
        {
          "data": {
            "text/html": [
              "<iframe width=\"950\" height=\"534.4\" src=\"https://www.youtube.com/embed/cb5fJvGarlQ\" title=\"YouTube video player\" frameborder=\"0\" allow=\"accelerometer; autoplay; clipboard-write; encrypted-media; gyroscope; picture-in-picture; web-share\" allowfullscreen></iframe>\n"
            ],
            "text/plain": [
              "<IPython.core.display.HTML object>"
            ]
          },
          "metadata": {},
          "output_type": "display_data"
        }
      ],
      "source": [
        "%%html\n",
        "<iframe width=\"950\" height=\"534.4\" src=\"https://www.youtube.com/embed/cb5fJvGarlQ\" title=\"YouTube video player\" frameborder=\"0\" allow=\"accelerometer; autoplay; clipboard-write; encrypted-media; gyroscope; picture-in-picture; web-share\" allowfullscreen></iframe>"
      ]
    },
    {
      "cell_type": "markdown",
      "metadata": {
        "id": "zwnnmbi7JIgq"
      },
      "source": [
        "# .env file to hide credentials"
      ]
    },
    {
      "cell_type": "code",
      "execution_count": null,
      "metadata": {
        "id": "1ULNLyEcJImJ"
      },
      "outputs": [],
      "source": [
        "import os\n",
        "\n",
        "# Define your Twitter API credentials\n",
        "twitter_api_key = \"your_api_key\"\n",
        "twitter_api_secret = \"your_api_secret\"\n",
        "twitter_access_token = \"your_access_token\"\n",
        "twitter_access_token_secret = \"your_access_token_secret\"\n",
        "\n",
        "# Define the content of the .env file\n",
        "env_content = f\"\"\"\n",
        "TWITTER_API_KEY={twitter_api_key}\n",
        "TWITTER_API_SECRET={twitter_api_secret}\n",
        "TWITTER_ACCESS_TOKEN={twitter_access_token}\n",
        "TWITTER_ACCESS_TOKEN_SECRET={twitter_access_token_secret}\n",
        "\"\"\"\n",
        "\n",
        "# Define the path to the .env file\n",
        "env_file_path = \".env\"\n",
        "\n",
        "# Write the content to the .env file\n",
        "with open(env_file_path, \"w\") as env_file:\n",
        "    env_file.write(env_content)\n",
        "\n",
        "print(f\".env file created at {os.path.abspath(env_file_path)}\")"
      ]
    },
    {
      "cell_type": "code",
      "execution_count": null,
      "metadata": {
        "id": "sqTAs0JnJTUu"
      },
      "outputs": [],
      "source": [
        "from dotenv import load_dotenv\n",
        "import os\n",
        "\n",
        "# Load environment variables from .env file\n",
        "load_dotenv()"
      ]
    },
    {
      "cell_type": "code",
      "execution_count": null,
      "metadata": {
        "id": "orpyeHoHJTW-"
      },
      "outputs": [],
      "source": [
        "import tweepy\n",
        "import os\n",
        "\n",
        "# Authenticate with Twitter API\n",
        "auth = tweepy.OAuth1(\n",
        "    os.getenv(\"TWITTER_API_KEY\"),\n",
        "    os.getenv(\"TWITTER_API_SECRET\"),\n",
        "    os.getenv(\"TWITTER_ACCESS_TOKEN\"),\n",
        "    os.getenv(\"TWITTER_ACCESS_TOKEN_SECRET\")\n",
        ")\n",
        "\n",
        "# Create Tweepy API object\n",
        "api = tweepy.API(auth)\n",
        "\n",
        "# Verify authentication\n",
        "try:\n",
        "    api.verify_credentials()\n",
        "    print(\"Authentication OK\")\n",
        "except:\n",
        "    print(\"Error during authentication\")"
      ]
    }
  ],
  "metadata": {
    "colab": {
      "collapsed_sections": [
        "UxGg8srFN0M9",
        "zwnnmbi7JIgq",
        "kfkxDXmUkcOW"
      ],
      "provenance": []
    },
    "kernelspec": {
      "display_name": "Python 3",
      "name": "python3"
    },
    "language_info": {
      "name": "python"
    }
  },
  "nbformat": 4,
  "nbformat_minor": 0
}
