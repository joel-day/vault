{
 "cells": [
  {
   "cell_type": "markdown",
   "id": "bbbc697e",
   "metadata": {},
   "source": [
    "# Git w/ Github"
   ]
  },
  {
   "cell_type": "markdown",
   "id": "c630a1b4",
   "metadata": {},
   "source": [
    "## Clone any Repository in the World to Desktop"
   ]
  },
  {
   "cell_type": "code",
   "execution_count": 52,
   "id": "9b92fdb3",
   "metadata": {},
   "outputs": [
    {
     "name": "stderr",
     "output_type": "stream",
     "text": [
      "The system cannot find the path specified.\n"
     ]
    }
   ],
   "source": [
    "# && is a conditional statement - after && will only run if before worked\n",
    "\n",
    "!cd desktop && git clone https://github.com/joel-day/vault.git vault\n",
    "#!git clone https://github.com/lanewhitmore/youtube-trending-predictions.git yt_project_0319"
   ]
  },
  {
   "cell_type": "markdown",
   "id": "9e6ce0c2",
   "metadata": {},
   "source": [
    "## Connect Git to an Online Repository"
   ]
  },
  {
   "cell_type": "markdown",
   "id": "5aa807d4",
   "metadata": {},
   "source": [
    "#### Connect Git to a Repo and give it a Nickname"
   ]
  },
  {
   "cell_type": "code",
   "execution_count": 54,
   "id": "743ec11f",
   "metadata": {},
   "outputs": [],
   "source": [
    "#!git remote add vault https://github.com/joel-day/vault\n",
    "#!git remote add 3d https://github.com/joel-day/3dmap-plotly && git remote add vault https://github.com/joel-day/vault"
   ]
  },
  {
   "cell_type": "markdown",
   "id": "e1237f70",
   "metadata": {},
   "source": [
    "#### View all Current Connections"
   ]
  },
  {
   "cell_type": "code",
   "execution_count": 55,
   "id": "9b48d9a1",
   "metadata": {},
   "outputs": [
    {
     "name": "stdout",
     "output_type": "stream",
     "text": [
      "vault\thttps://github.com/joel-day/vault (fetch)\n",
      "vault\thttps://github.com/joel-day/vault (push)\n"
     ]
    }
   ],
   "source": [
    "!git remote -v"
   ]
  },
  {
   "cell_type": "markdown",
   "id": "5d884e6d",
   "metadata": {},
   "source": [
    "## Replace a Repository with Folder on Desktop"
   ]
  },
  {
   "cell_type": "markdown",
   "id": "944ccee6",
   "metadata": {},
   "source": [
    "#### Change Working Directory to Folder which will replce desired Repository"
   ]
  },
  {
   "cell_type": "code",
   "execution_count": 60,
   "id": "1572dc16",
   "metadata": {},
   "outputs": [
    {
     "name": "stdout",
     "output_type": "stream",
     "text": [
      "C:\\Users\\jday\\desktop\\vault\n"
     ]
    }
   ],
   "source": [
    "cd vault"
   ]
  },
  {
   "cell_type": "markdown",
   "id": "447c9195",
   "metadata": {},
   "source": [
    "#### Initialize the local directory as a Git repository."
   ]
  },
  {
   "cell_type": "code",
   "execution_count": 59,
   "id": "16a45f76",
   "metadata": {},
   "outputs": [
    {
     "name": "stdout",
     "output_type": "stream",
     "text": [
      "Reinitialized existing Git repository in C:/Users/jday/Desktop/.git/\n"
     ]
    },
    {
     "name": "stderr",
     "output_type": "stream",
     "text": [
      "warning: re-init: ignored --initial-branch=main\n"
     ]
    }
   ],
   "source": [
    "!git init -b main"
   ]
  },
  {
   "cell_type": "code",
   "execution_count": null,
   "id": "3d0b08af",
   "metadata": {},
   "outputs": [],
   "source": [
    "!git add . && git commit -m \"initial commit\""
   ]
  },
  {
   "cell_type": "code",
   "execution_count": null,
   "id": "ce56d438",
   "metadata": {},
   "outputs": [],
   "source": [
    "!git push"
   ]
  },
  {
   "cell_type": "markdown",
   "id": "8621f5af",
   "metadata": {},
   "source": [
    "# Notes"
   ]
  },
  {
   "cell_type": "markdown",
   "id": "15501546",
   "metadata": {},
   "source": [
    "#### Renaming a Connection"
   ]
  },
  {
   "cell_type": "code",
   "execution_count": 40,
   "id": "c0ae9957",
   "metadata": {},
   "outputs": [],
   "source": [
    "!git remote rename vault vault2"
   ]
  },
  {
   "cell_type": "markdown",
   "id": "cbbb4884",
   "metadata": {},
   "source": [
    "#### Removing a Connection"
   ]
  },
  {
   "cell_type": "code",
   "execution_count": 45,
   "id": "9a3ff25a",
   "metadata": {},
   "outputs": [],
   "source": [
    "!git remote rm 3d"
   ]
  }
 ],
 "metadata": {
  "kernelspec": {
   "display_name": "Python 3 (ipykernel)",
   "language": "python",
   "name": "python3"
  },
  "language_info": {
   "codemirror_mode": {
    "name": "ipython",
    "version": 3
   },
   "file_extension": ".py",
   "mimetype": "text/x-python",
   "name": "python",
   "nbconvert_exporter": "python",
   "pygments_lexer": "ipython3",
   "version": "3.10.2"
  }
 },
 "nbformat": 4,
 "nbformat_minor": 5
}
